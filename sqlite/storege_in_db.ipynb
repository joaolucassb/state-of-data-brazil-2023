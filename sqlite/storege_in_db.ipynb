{
 "cells": [
  {
   "cell_type": "code",
   "execution_count": null,
   "id": "ba109843-e91e-463c-97b5-abf3d2fd7ab7",
   "metadata": {},
   "outputs": [],
   "source": [
    "# Esse bloco cria a conexão com o banco de dados, extrai as colunas do arquivo csv e cria o SQl para criação das tabelas "
   ]
  },
  {
   "cell_type": "code",
   "execution_count": 3,
   "id": "3c8ba0cb-924c-48e6-b7fe-d48f01d215c9",
   "metadata": {},
   "outputs": [
    {
     "name": "stdout",
     "output_type": "stream",
     "text": [
      "Dados importados com sucesso\n"
     ]
    }
   ],
   "source": [
    "import pandas as pd\n",
    "import sqlite3\n",
    "\n",
    "# Caminho para o arquivo CSV e SQLite\n",
    "caminho_csv = \"../data/processed/stateOfDataBR2023_tratado.csv\"\n",
    "caminho_banco = \"../sqlite/database/stateOfDataBR2023.db\"\n",
    "\n",
    "# Lendo apenas o cabeçalho do CSV\n",
    "df = pd.read_csv(caminho_csv, nrows=0)\n",
    "\n",
    "# Extraindo nomes das colunas\n",
    "colunas = df.columns.tolist()\n",
    "\n",
    "# Gerando SQL para criar tabela\n",
    "colunas_sql = \",\\n  \".join([f'\"{col}\" TEXT' for col in colunas])\n",
    "nome_tabela = \"dados\"\n",
    "\n",
    "create_table_sql = f\"\"\"\n",
    "CREATE TABLE IF NOT EXISTS {nome_tabela} (\n",
    "    {colunas_sql}\n",
    ");\n",
    "\"\"\"\n",
    "\n",
    "# Conectando ao SQLite e criando a tabela\n",
    "conn = sqlite3.connect(caminho_banco)\n",
    "cursor = conn.cursor()\n",
    "\n",
    "cursor.execute(create_table_sql)\n",
    "\n",
    "# Lendo todo o CSV\n",
    "df = pd.read_csv(caminho_csv)\n",
    "\n",
    "# Inserindo dados na tabela\n",
    "placeholders = \", \".join([\"?\"] * len(colunas))\n",
    "insert_sql = f\"\"\"\n",
    "INSERT INTO {nome_tabela} ({\", \".join(['\"' + col + '\"' for col in colunas])})\n",
    "VALUES ({placeholders});\n",
    "\"\"\"\n",
    "\n",
    "cursor.executemany(insert_sql, df.values.tolist())\n",
    "\n",
    "# Salvando alterações e fechando conexão\n",
    "conn.commit()\n",
    "cursor.close()\n",
    "conn.close()\n",
    "\n",
    "print(\"Dados importados com sucesso\")"
   ]
  },
  {
   "cell_type": "code",
   "execution_count": null,
   "id": "2ae78bde-7a23-47ee-a12a-3fdb9ff632d8",
   "metadata": {},
   "outputs": [],
   "source": []
  }
 ],
 "metadata": {
  "kernelspec": {
   "display_name": "Python 3 (ipykernel)",
   "language": "python",
   "name": "python3"
  },
  "language_info": {
   "codemirror_mode": {
    "name": "ipython",
    "version": 3
   },
   "file_extension": ".py",
   "mimetype": "text/x-python",
   "name": "python",
   "nbconvert_exporter": "python",
   "pygments_lexer": "ipython3",
   "version": "3.12.4"
  }
 },
 "nbformat": 4,
 "nbformat_minor": 5
}
