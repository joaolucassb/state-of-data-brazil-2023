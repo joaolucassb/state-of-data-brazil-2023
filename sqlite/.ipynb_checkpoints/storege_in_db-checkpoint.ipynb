{
 "cells": [
  {
   "cell_type": "code",
   "execution_count": 1,
   "id": "00fc3f6e-8085-4957-a15b-4ad02fc8da64",
   "metadata": {},
   "outputs": [
    {
     "name": "stdout",
     "output_type": "stream",
     "text": [
      "Requirement already satisfied: psycopg2 in c:\\users\\joaos\\anaconda3\\lib\\site-packages (2.9.9)\n",
      "Note: you may need to restart the kernel to use updated packages.\n"
     ]
    }
   ],
   "source": [
    "pip install psycopg2"
   ]
  },
  {
   "cell_type": "code",
   "execution_count": null,
   "id": "ba109843-e91e-463c-97b5-abf3d2fd7ab7",
   "metadata": {},
   "outputs": [],
   "source": [
    "# Esse bloco cria a conexão com o banco de dados, extrai as colunas do arquivo csv e cria o SQl para criação das tabelas "
   ]
  },
  {
   "cell_type": "code",
   "execution_count": 2,
   "id": "afb3f847-e48e-4ec5-8649-acfd6954bca4",
   "metadata": {},
   "outputs": [
    {
     "name": "stdout",
     "output_type": "stream",
     "text": [
      "Dados importados com sucesso\n"
     ]
    }
   ],
   "source": [
    "import pandas as pd\n",
    "import psycopg2\n",
    "\n",
    "caminho_csv = \"./stateOfDataBR2023_tratado.csv\"\n",
    "\n",
    "df = pd.read_csv(caminho_csv, nrows=0)\n",
    "\n",
    "# Extaindo nome das colunas\n",
    "colunas = df.columns.tolist()\n",
    "\n",
    "colunas_sql = \",\\n  \".join([f'\"{col}\" TEXT' for col in colunas])\n",
    "\n",
    "nome_tabela = \"dados\"\n",
    "\n",
    "# SQL para criação da tabela baseado no nome das colunas do arquivo csv\n",
    "create_table_sql = f\"\"\"\n",
    "CREATE TABLE IF NOT EXISTS {nome_tabela} (\n",
    "    {colunas_sql}\n",
    ");\n",
    "\"\"\"\n",
    "\n",
    "\n",
    "# Conectando com banco e executando comando create table\n",
    "conn = psycopg2.connect(\n",
    "    dbname=\"stateofdatabr2023\",\n",
    "    user=\"postgres\",\n",
    "    password=\"postgres\",\n",
    "    host=\"localhost\",\n",
    "    port=\"5432\"\n",
    ")\n",
    "cursor = conn.cursor()\n",
    "\n",
    "cursor.execute(create_table_sql)\n",
    "\n",
    "\n",
    "copy_sql = f\"\"\"\n",
    "COPY {nome_tabela} FROM STDIN WITH CSV HEADER DELIMITER ',';\n",
    "\"\"\"\n",
    "\n",
    "# Abrir o arquivo e executar o COPY\n",
    "with open(caminho_csv, 'r', encoding='utf-8') as f:\n",
    "    cursor.copy_expert(copy_sql, f)\n",
    "\n",
    "\n",
    "conn.commit()\n",
    "\n",
    "cursor.close()\n",
    "conn.close()\n",
    "\n",
    "\n",
    "print(\"Dados importados com sucesso\")"
   ]
  },
  {
   "cell_type": "code",
   "execution_count": null,
   "id": "3c8ba0cb-924c-48e6-b7fe-d48f01d215c9",
   "metadata": {},
   "outputs": [],
   "source": []
  }
 ],
 "metadata": {
  "kernelspec": {
   "display_name": "Python 3 (ipykernel)",
   "language": "python",
   "name": "python3"
  },
  "language_info": {
   "codemirror_mode": {
    "name": "ipython",
    "version": 3
   },
   "file_extension": ".py",
   "mimetype": "text/x-python",
   "name": "python",
   "nbconvert_exporter": "python",
   "pygments_lexer": "ipython3",
   "version": "3.12.4"
  }
 },
 "nbformat": 4,
 "nbformat_minor": 5
}
