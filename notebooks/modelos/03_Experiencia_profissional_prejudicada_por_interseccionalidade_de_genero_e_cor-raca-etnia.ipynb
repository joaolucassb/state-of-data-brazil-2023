{
 "cells": [
  {
   "cell_type": "markdown",
   "id": "9282883a-de3f-4fc4-aa9c-5fb367fd7d2a",
   "metadata": {},
   "source": [
    "# 1. Este notebook buscar relacionar dados referente `Experiência profissional prejudicada por interseccionalidade de gênero e cor/raça/etnia`."
   ]
  },
  {
   "cell_type": "markdown",
   "id": "4778faa3-f756-4ea2-b628-bb2b667e2e1f",
   "metadata": {},
   "source": [
    "## 1.1 Gerar uma lista com todas as colunas do dataFrame para melhor visualização."
   ]
  },
  {
   "cell_type": "code",
   "execution_count": 26,
   "id": "1278a348-258f-4da4-8c85-2e9af5c1fdf6",
   "metadata": {},
   "outputs": [
    {
     "name": "stdout",
     "output_type": "stream",
     "text": [
      "0: (P0-_id)\n",
      "1: (P1_a_-_Idade)\n",
      "2: (P1_a_1_-_Faixa_idade)\n",
      "3: (P1_b_-_Genero)\n",
      "4: (P1_c_-_Cor/raca/etnia)\n",
      "5: (P1_d_-_PCD)\n",
      "6: (P1_e_-_experiencia_profissional_prejudicada)\n",
      "7: (P1_e_1_-_Nao_acredito_que_minha_experiencia_profissional_seja_afetada)\n",
      "8: (P1_e_2_-_Experiencia_prejudicada_devido_a_minha_Cor_Raca_Etnia)\n",
      "9: (P1_e_3_-_Experiencia_prejudicada_devido_a_minha_identidade_de_genero)\n",
      "10: (P1_e_4_-_Experiencia_prejudicada_devido_ao_fato_de_ser_PCD)\n",
      "11: (P1_f_-_aspectos_prejudicados)\n",
      "12: (P1_f_1-_Quantidade_de_oportunidades_de_emprego/vagas_recebidas)\n",
      "13: (P1_f_2-_Senioridade_das_vagas_recebidas_em_relacao_a_sua_experiencia)\n",
      "14: (P1_f_3-_Aprovacao_em_processos_seletivos/entrevistas)\n",
      "15: (P1_f_4-_Oportunidades_de_progressao_de_carreira)\n",
      "16: (P1_f_5-_Velocidade_de_progressao_de_carreira)\n",
      "17: (P1_f_6-_Nivel_de_cobranca_no_trabalho/Stress_no_trabalho)\n",
      "18: (P1_f_7-_Atencao_dada_diante_das_minhas_opinioes_e_ideias)\n",
      "19: (P1_f_8-_Relacao_com_outros_membros_da_empresa-_em_momentos_de_trabalho)\n",
      "20: (P1_f_9-_Relacao_com_outros_membros_da_empresa-_em_momentos_de_integracao_e_outros_momentos_fora_do_trabalho)\n",
      "21: (P1_g_-_vive_no_brasil)\n",
      "22: (P1_i_-_Estado_onde_mora)\n",
      "23: (P1_i_1_-_uf_onde_mora)\n",
      "24: (P1_i_2_-_Regiao_onde_mora)\n",
      "25: (P1_j_-_Mudou_de_Estado?)\n",
      "26: (P1_k_-_Regiao_de_origem)\n",
      "27: (P1_l_-_Nivel_de_Ensino)\n",
      "28: (P1_m_-_Area_de_Formacao)\n",
      "29: (P2_a_-_Qual_sua_situacao_atual_de_trabalho?)\n",
      "30: (P2_b_-_Setor)\n",
      "31: (P2_c_-_Numero_de_Funcionarios)\n",
      "32: (P2_d_-_Gestor?)\n",
      "33: (P2_e_-_Cargo_como_Gestor)\n",
      "34: (P2_f_-_Cargo_Atual)\n",
      "35: (P2_g_-_Nivel)\n",
      "36: (P2_h_-_Faixa_salarial)\n",
      "37: (P2_i_-_Quanto_tempo_de_experiencia_na_area_de_dados_voce_tem?)\n",
      "38: (P2_j_-_Quanto_tempo_de_experiencia_na_area_de_TI/Engenharia_de_Software_voce_teve_antes_de_comecar_a_trabalhar_na_area_de_dados?)\n",
      "39: (P2_k_-_Voce_esta_satisfeito_na_sua_empresa_atual?)\n",
      "40: (P2_l_-_Qual_o_principal_motivo_da_sua_insatisfacao_com_a_empresa_atual?)\n",
      "41: (P2_l_1_-_Falta_de_oportunidade_de_crescimento_no_emprego_atual)\n",
      "42: (P2_l_2_-_Salario_atual_nao_corresponde_ao_mercado)\n",
      "43: (P2_l_3_-_Nao_tenho_uma_boa_relacao_com_meu_lider/gestor)\n",
      "44: (P2_l_4_-_Gostaria_de_trabalhar_em_em_outra_area_de_atuacao)\n",
      "45: (P2_l_5_-_Gostaria_de_receber_mais_beneficios)\n",
      "46: (P2_l_6_-_O_clima_de_trabalho/ambiente_nao_e_bom)\n",
      "47: (P2_l_7_-_Falta_de_maturidade_analitica_na_empresa)\n",
      "48: (P2_m_-_Voce_participou_de_entrevistas_de_emprego_nos_ultimos_6_meses?)\n",
      "49: (P2_n_-_Voce_pretende_mudar_de_emprego_nos_proximos_6_meses?)\n",
      "50: (P2_o_-_Quais_os_principais_criterios_que_voce_leva_em_consideracao_no_momento_de_decidir_onde_trabalhar?)\n",
      "51: (P2_o_1_-_Remuneracao/Salario)\n",
      "52: (P2_o_2_-_Beneficios)\n",
      "53: (P2_o_3_-_Proposito_do_trabalho_e_da_empresa)\n",
      "54: (P2_o_4_-_Flexibilidade_de_trabalho_remoto)\n",
      "55: (P2_o_5_-_Ambiente_e_clima_de_trabalho)\n",
      "56: (P2_o_6_-_Oportunidade_de_aprendizado_e_trabalhar_com_referencias_na_area)\n",
      "57: (P2_o_7_-_Plano_de_carreira_e_oportunidades_de_crescimento_profissional)\n",
      "58: (P2_o_8_-_Maturidade_da_empresa_em_termos_de_tecnologia_e_dados)\n",
      "59: (P2_o_9_-_Qualidade_dos_gestores_e_lideres)\n",
      "60: (P2_o_10_-_Reputacao_que_a_empresa_tem_no_mercado)\n",
      "61: (P2_q_-_Empresa_que_trabaha_passou_por_layoff_em_2023)\n",
      "62: (P2_r_-_Atualmente_qual_a_sua_forma_de_trabalho?)\n",
      "63: (P2_s_-_Qual_a_forma_de_trabalho_ideal_para_voce?)\n",
      "64: (P2_t_-_Caso_sua_empresa_decida_pelo_modelo_100%_presencial_qual_sera_sua_atitude?)\n",
      "65: (P3_a_-_Qual_o_numero_aproximado_de_pessoas_que_atuam_com_dados_na_sua_empresa_hoje?)\n",
      "66: (P3_b_-_Quais_desses_papeis/cargos_fazem_parte_do_time_(ou_chapter)_de_dados_da_sua_empresa?)\n",
      "67: (P3_b_1_-_Analytics_Engineer)\n",
      "68: (P3_b_2_-_Engenharia_de_Dados/Data_Engineer)\n",
      "69: (P3_b_3_-_Analista_de_Dados/Data_Analyst)\n",
      "70: (P3_b_4_-_Cientista_de_Dados/Data_Scientist)\n",
      "71: (P3_b_5_-_Database_Administrator/DBA)\n",
      "72: (P3_b_6_-_Analista_de_Business_Intelligence/BI)\n",
      "73: (P3_b_7_-_Arquiteto_de_Dados/Data_Architect)\n",
      "74: (P3_b_8_-_Data_Product_Manager/DPM)\n",
      "75: (P3_b_9_-_Business_Analyst)\n",
      "76: (P3_c_-_Quais_dessas_responsabilidades_fazem_parte_da_sua_rotina_atual_de_trabalho_como_gestor?)\n",
      "77: (P3_c_1_-_Pensar_na_visao_de_longo_prazo_de_dados_da_empresa_e_fortalecimento_da_cultura_analitica_da_companhia.)\n",
      "78: (P3_c_2_-_Organizacao_de_treinamentos_e_iniciativas_com_o_objetivo_de_aumentar_a_maturidade_analitica_das_areas_de_negocios.)\n",
      "79: (P3_c_3_-_Atracao-_selecao_e_contratacao_de_talentos_para_o_time_de_dados.)\n",
      "80: (P3_c_4_-_Decisao_sobre_contratacao_de_ferramentas_e_tecnologias_relacionadas_a_dados.)\n",
      "81: (P3_c_5_-_Sou_gestor_da_equipe_responsavel_pela_engenharia_de_dados_e_por_manter_o_Data_Lake_da_empresa_como_fonte_unica_dos_dados-_garantindo_a_qualidade_e_confiabilidade_da_informacao.)\n",
      "82: (P3_c_6_-_Sou_gestor_da_equipe_responsavel_pela_entrega_de_dados-_estudos-_relatorios_e_dashboards_para_as_areas_de_negocio_da_empresa.)\n",
      "83: (P3_c_7_-_Sou_gestor_da_equipe_responsavel_por_iniciativas_e_projetos_envolvendo_Inteligencia_Artificial_e_Machine_Learning.)\n",
      "84: (P3_c_8_-_Apesar_de_ser_gestor_ainda_atuo_na_parte_tecnica-_construindo_solucoes/analises/modelos_etc.)\n",
      "85: (P3_c_9_-_Gestao_de_projetos_de_dados-_cuidando_das_etapas-_equipes_envolvidas-_atingimento_dos_objetivos_etc.)\n",
      "86: (P3_c_10_-_Gestao_de_produtos_de_dados-_cuidando_da_visao_dos_produtos-_backlog-_feedback_de_usuarios_etc.)\n",
      "87: (P3_c_11_-_Gestao_de_pessoas-_apoio_no_desenvolvimento_das_pessoas-_evolucao_de_carreira)\n",
      "88: (P3_d_-_Quais_sao_os_3_maiores_desafios_que_voce_tem_como_gestor_no_atual_momento?)\n",
      "89: (P3_d_1_-_a_Contratar_novos_talentos.)\n",
      "90: (P3_d_2_-_b_Reter_talentos.)\n",
      "91: (P3_d_3_-_c_Convencer_a_empresa_a_aumentar_os_investimentos_na_area_de_dados.)\n",
      "92: (P3_d_4_-_d_Gestao_de_equipes_no_ambiente_remoto.)\n",
      "93: (P3_d_5_-_e_Gestao_de_projetos_envolvendo_areas_multidisciplinares_da_empresa.)\n",
      "94: (P3_d_6_-_f_Organizar_as_informacoes_e_garantir_a_qualidade_e_confiabilidade.)\n",
      "95: (P3_d_7_-_g_Conseguir_processar_e_armazenar_um_alto_volume_de_dados.)\n",
      "96: (P3_d_8_-_h_Conseguir_gerar_valor_para_as_areas_de_negocios_atraves_de_estudos_e_experimentos.)\n",
      "97: (P3_d_9_-_i_Desenvolver_e_manter_modelos_Machine_Learning_em_producao.)\n",
      "98: (P3_d_10_-_j_Gerenciar_a_expectativa_das_areas_de_negocio_em_relacao_as_entregas_das_equipes_de_dados.)\n",
      "99: (P3_d_11_-_k_Garantir_a_manutencao_dos_projetos_e_modelos_em_producao-_em_meio_ao_crescimento_da_empresa.)\n",
      "100: (P3_d_12_-_Conseguir_levar_inovacao_para_a_empresa_atraves_dos_dados.)\n",
      "101: (P3_d_13_-_Garantir_retorno_do_investimento_(ROI)_em_projetos_de_dados.)\n",
      "102: (P3_d_14_-_Dividir_o_tempo_entre_entregas_tecnicas_e_gestao.)\n",
      "103: (P3_e_-_AI_Generativa_e_uma_prioridade_em_sua_empresa?)\n",
      "104: (P3_f_-_Tipos_de_uso_de_AI_Generativa_e_LLMs_na_empresa)\n",
      "105: (P3_f_1_-_Colaboradores_usando_AI_generativa_de_forma_independente_e_descentralizada)\n",
      "106: (P3_f_2_-_Direcionamento_centralizado_do_uso_de_AI_generativa)\n",
      "107: (P3_f_3_-_Desenvolvedores_utilizando_Copilots)\n",
      "108: (P3_f_4_-_AI_Generativa_e_LLMs_para_melhorar_produtos_externos)\n",
      "109: (P3_f_5_-_AI_Generativa_e_LLMs_para_melhorar_produtos_internos_para_os_colaboradores)\n",
      "110: (P3_f_6_-_IA_Generativa_e_LLMs_como_principal_frente_do_negocio)\n",
      "111: (P3_f_7_-_IA_Generativa_e_LLMs_nao_e_prioridade)\n",
      "112: (P3_f_8_-_Nao_sei_opinar_sobre_o_uso_de_IA_Generativa_e_LLMs_na_empresa)\n",
      "113: (P3_g_-_Motivos_que_levam_a_empresa_a_nao_usar_AI_Genrativa_e_LLMs)\n",
      "114: (P3_g_1_-_Falta_de_compreensao_dos_casos_de_uso)\n",
      "115: (P3_g_2_-_Falta_de_confiabilidade_das_saidas_(alucinacao_dos_modelos))\n",
      "116: (P3_g_3_-_Incerteza_em_relacao_a_regulamentacao)\n",
      "117: (P3_g_4_-_Preocupacoes_com_seguranca_e_privacidade_de_dados)\n",
      "118: (P3_g_5_-_Retorno_sobre_investimento_(ROI)_nao_comprovado_de_IA_Generativa)\n",
      "119: (P3_g_6_-_Dados_da_empresa_nao_estao_prontos_para_uso_de_IA_Generativa)\n",
      "120: (P3_g_7_-_Falta_de_expertise_ou_falta_de_recursos)\n",
      "121: (P3_g_8_-_Alta_direcao_da_empresa_nao_ve_valor_ou_nao_ve_como_prioridade)\n",
      "122: (P3_g_9_-_Preocupacoes_com_propriedade_intelectual)\n",
      "123: (P4_a_-_Mesmo_que_esse_nao_seja_seu_cargo_formal-_voce_considera_que_sua_atuacao_no_dia_a_dia-_reflete_alguma_das_opcoes_listadas_abaixo?)\n",
      "124: (P4_a_1_-_Atuacao)\n",
      "125: (P4_b_-_Quais_das_fontes_de_dados_listadas_voce_ja_analisou_ou_processou_no_trabalho?)\n",
      "126: (P4_b_1_-_Dados_relacionais_(estruturados_em_bancos_SQL))\n",
      "127: (P4_b_2_-_Dados_armazenados_em_bancos_NoSQL)\n",
      "128: (P4_b_3_-_Imagens)\n",
      "129: (P4_b_4_-_Textos/Documentos)\n",
      "130: (P4_b_5_-_Videos)\n",
      "131: (P4_b_6_-_Audios)\n",
      "132: (P4_b_7_-_Planilhas)\n",
      "133: (P4_b_8_-_Dados_georeferenciados)\n",
      "134: (P4_c_-_Entre_as_fontes_de_dados_listadas-_quais_voce_utiliza_na_maior_parte_do_tempo?)\n",
      "135: (P4_c_1_-_Dados_relacionais_(estruturados_em_bancos_SQL))\n",
      "136: (P4_c_2_-_Dados_armazenados_em_bancos_NoSQL)\n",
      "137: (P4_c_3_-_Imagens)\n",
      "138: (P4_c_4_-_Textos/Documentos)\n",
      "139: (P4_c_5_-_Videos)\n",
      "140: (P4_c_6_-_Audios)\n",
      "141: (P4_c_7_-_Planilhas)\n",
      "142: (P4_c_8_-_Dados_georeferenciados)\n",
      "143: (P4_d_-_Quais_das_linguagens_listadas_abaixo_voce_utiliza_no_trabalho?)\n",
      "144: (P4_d_1_-_SQL)\n",
      "145: (P4_d_2_-_R_)\n",
      "146: (P4_d_3_-_Python)\n",
      "147: (P4_d_4_-_C/C++/C#)\n",
      "148: (P4_d_5_-_.NET)\n",
      "149: (P4_d_6_-_Java)\n",
      "150: (P4_d_7_-_Julia)\n",
      "151: (P4_d_8_-_SAS/Stata)\n",
      "152: (P4_d_9_-_Visual_Basic/VBA)\n",
      "153: (P4_d_10_-_Scala)\n",
      "154: (P4_d_11_-_Matlab)\n",
      "155: (P4_d_12_-_Rust)\n",
      "156: (P4_d_13_-_PHP)\n",
      "157: (P4_d_14_-_JavaScript)\n",
      "158: (P4_d_15_-_Nao_utilizo_nenhuma_linguagem)\n",
      "159: (P4_e_-_Entre_as_linguagens_listadas_abaixo-_qual_e_a_que_voce_mais_utiliza_no_trabalho?)\n",
      "160: (P4_f_-_Entre_as_linguagens_listadas_abaixo-_qual_e_a_sua_preferida?)\n",
      "161: (P4_g_-_Quais_dos_bancos_de_dados/fontes_de_dados_listados_abaixo_voce_utiliza_no_trabalho?)\n",
      "162: (P4_g_1_-_MySQL)\n",
      "163: (P4_g_2_-_Oracle)\n",
      "164: (P4_g_3_-_SQL_SERVER)\n",
      "165: (P4_g_4_-_Amazon_Aurora_ou_RDS)\n",
      "166: (P4_g_5_-_DynamoDB)\n",
      "167: (P4_g_6_-_CoachDB)\n",
      "168: (P4_g_7_-_Cassandra)\n",
      "169: (P4_g_8_-_MongoDB)\n",
      "170: (P4_g_9_-_MariaDB)\n",
      "171: (P4_g_10_-_Datomic)\n",
      "172: (P4_g_11_-_S3)\n",
      "173: (P4_g_12_-_PostgreSQL)\n",
      "174: (P4_g_13_-_ElasticSearch)\n",
      "175: (P4_g_14_-_DB2)\n",
      "176: (P4_g_15_-_Microsoft_Access)\n",
      "177: (P4_g_16_-_SQLite)\n",
      "178: (P4_g_17_-_Sybase)\n",
      "179: (P4_g_18_-_Firebase)\n",
      "180: (P4_g_19_-_Vertica)\n",
      "181: (P4_g_20_-_Redis)\n",
      "182: (P4_g_21_-_Neo4J)\n",
      "183: (P4_g_22_-_Google_BigQuery)\n",
      "184: (P4_g_23_-_Google_Firestore)\n",
      "185: (P4_g_24_-_Amazon_Redshift)\n",
      "186: (P4_g_25_-_Amazon_Athena)\n",
      "187: (P4_g_26_-_Snowflake)\n",
      "188: (P4_g_27_-_Databricks)\n",
      "189: (P4_g_28_-_HBase)\n",
      "190: (P4_g_29_-_Presto)\n",
      "191: (P4_g_30_-_Splunk)\n",
      "192: (P4_g_31_-_SAP_HANA)\n",
      "193: (P4_g_32_-_Hive)\n",
      "194: (P4_g_33_-_Firebird)\n",
      "195: (P4_h_-_Dentre_as_opcoes_listadas-_qual_sua_Cloud_preferida?)\n",
      "196: (P4_h_1_-_Azure_(Microsoft))\n",
      "197: (P4_h_2_-_Amazon_Web_Services_(AWS))\n",
      "198: (P4_h_3_-_Google_Cloud_(GCP))\n",
      "199: (P4_h_4_-_Oracle_Cloud)\n",
      "200: (P4_h_5_-_IBM)\n",
      "201: (P4_h_6_-_Servidores_On_Premise/Nao_utilizamos_Cloud)\n",
      "202: (P4_h_7_-_Cloud_Propria)\n",
      "203: (P4_i_-_Cloud_preferida)\n",
      "204: (P4_j_-_Ferramenta_de_BI_utilizada_no_dia_a_dia)\n",
      "205: (P4_j_1_-_Microsoft_PowerBI)\n",
      "206: (P4_j_2_-_Qlik_View/Qlik_Sense)\n",
      "207: (P4_j_3_-_Tableau)\n",
      "208: (P4_j_4_-_Metabase)\n",
      "209: (P4_j_5_-_Superset)\n",
      "210: (P4_j_6_-_Redash)\n",
      "211: (P4_j_7_-_Looker)\n",
      "212: (P4_j_8_-_Looker_Studio(Google_Data_Studio))\n",
      "213: (P4_j_9_-_Amazon_Quicksight)\n",
      "214: (P4_j_10_-_Mode)\n",
      "215: (P4_j_11_-_Alteryx)\n",
      "216: (P4_j_12_-_MicroStrategy)\n",
      "217: (P4_j_13_-_IBM_Analytics/Cognos)\n",
      "218: (P4_j_14_-_SAP_Business_Objects/SAP_Analytics)\n",
      "219: (P4_j_15_-_Oracle_Business_Intelligence)\n",
      "220: (P4_j_16_-_Salesforce/Einstein_Analytics)\n",
      "221: (P4_j_17_-_Birst)\n",
      "222: (P4_j_18_-_SAS_Visual_Analytics)\n",
      "223: (P4_j_19_-_Grafana)\n",
      "224: (P4_j_20_-_TIBCO_Spotfire)\n",
      "225: (P4_j_21_-_Pentaho)\n",
      "226: (P4_j_22_-_Fazemos_todas_as_analises_utilizando_apenas_Excel_ou_planilhas_do_google)\n",
      "227: (P4_j_23_-_Nao_utilizo_nenhuma_ferramenta_de_BI_no_trabalho)\n",
      "228: (P4_k_-_Qual_sua_ferramenta_de_BI_preferida?)\n",
      "229: (P4_l_-_Qual_o_tipo_de_uso_de_AI_Generativa_e_LLMs_na_empresa)\n",
      "230: (P4_l_1_-_Colaboradores_usando_AI_generativa_de_forma_independente_e_descentralizada)\n",
      "231: (P4_l_2_-_Direcionamento_centralizado_do_uso_de_AI_generativa)\n",
      "232: (P4_l_3_-_Desenvolvedores_utilizando_Copilots)\n",
      "233: (P4_l_4_-_AI_Generativa_e_LLMs_para_melhorar_produtos_externos_para_os_clientes_finais)\n",
      "234: (P4_l_5_-_AI_Generativa_e_LLMs_para_melhorar_produtos_internos_para_os_colaboradores)\n",
      "235: (P4_l_6_-_IA_Generativa_e_LLMs_como_principal_frente_do_negocio)\n",
      "236: (P4_l_7_-_IA_Generativa_e_LLMs_nao_e_prioridade)\n",
      "237: (P4_l_8_-_Nao_sei_opinar_sobre_o_uso_de_IA_Generativa_e_LLMs_na_empresa)\n",
      "238: (P4_m_-_Utiliza_ChatGPT_ou_LLMs_no_trabalho?)\n",
      "239: (P4_m_1_-_Nao_uso_solucoes_de_AI_Generativa_com_foco_em_produtividade)\n",
      "240: (P4_m_2_-_Uso_solucoes_gratuitas_de_AI_Generativa_com_foco_em_produtividade)\n",
      "241: (P4_m_3_-_Uso_e_pago_pelas_solucoes_de_AI_Generativa_com_foco_em_produtividade)\n",
      "242: (P4_m_4_-_A_empresa_que_trabalho_paga_pelas_solucoes_de_AI_Generativa_com_foco_em_produtividade)\n",
      "243: (P4_m_5_-_Uso_solucoes_do_tipo_Copilot)\n",
      "244: (P5_a_-_Qual_seu_objetivo_na_area_de_dados?)\n",
      "245: (P5_b_-_Qual_oportunidade_voce_esta_buscando?)\n",
      "246: (P5_c_-_Ha_quanto_tempo_voce_busca_uma_oportunidade_na_area_de_dados?)\n",
      "247: (P5_d_-_Como_tem_sido_a_busca_por_um_emprego_na_area_de_dados?)\n",
      "248: (P6_a_-_Quais_das_opcoes_abaixo_fazem_parte_da_sua_rotina_no_trabalho_atual_como_engenheiro_de_dados?)\n",
      "249: (P6_a_1_-_Desenvolvo_pipelines_de_dados_utilizando_linguagens_de_programacao_como_Python-_Scala-_Java_etc.)\n",
      "250: (P6_a_2_-_Realizo_construcoes_de_ETLs_em_ferramentas_como_Pentaho-_Talend-_Dataflow_etc.)\n",
      "251: (P6_a_3_-_Crio_consultas_atraves_da_linguagem_SQL_para_exportar_informacoes_e_compartilhar_com_as_areas_de_negocio.)\n",
      "252: (P6_a_4_-_Atuo_na_integracao_de_diferentes_fontes_de_dados_atraves_de_plataformas_proprietarias_como_Stitch_Data-_Fivetran_etc.)\n",
      "253: (P6_a_5_-_Modelo_solucoes_de_arquitetura_de_dados-_criando_componentes_de_ingestao_de_dados-_transformacao_e_recuperacao_da_informacao.)\n",
      "254: (P6_a_6_-_Desenvolvo/cuido_da_manutencao_de_repositorios_de_dados_baseados_em_streaming_de_eventos_como_Data_Lakes_e_Data_Lakehouses.)\n",
      "255: (P6_a_7_-_Atuo_na_modelagem_dos_dados-_com_o_objetivo_de_criar_conjuntos_de_dados_como_Data_Warehouses-_Data_Marts_etc.)\n",
      "256: (P6_a_8_-_Cuido_da_qualidade_dos_dados-_metadados_e_dicionario_de_dados.)\n",
      "257: (P6_a_9_-_Nenhuma_das_opcoes_listadas_refletem_meu_dia_a_dia.)\n",
      "258: (P6_b_-_Quais_as_ferramentas/tecnologias_de_ETL_que_voce_utiliza_no_trabalho_como_Data_Engineer?)\n",
      "259: (P6_b_1_-_Scripts_Python)\n",
      "260: (P6_b_2_-_SQL_&_Stored_Procedures)\n",
      "261: (P6_b_3_-_Apache_Airflow)\n",
      "262: (P6_b_4_-_Apache_NiFi)\n",
      "263: (P6_b_5_-_Luigi)\n",
      "264: (P6_b_6_-_AWS_Glue)\n",
      "265: (P6_b_7_-_Talend)\n",
      "266: (P6_b_8_-_Pentaho)\n",
      "267: (P6_b_9_-_Alteryx)\n",
      "268: (P6_b_10_-_Stitch)\n",
      "269: (P6_b_11_-_Fivetran)\n",
      "270: (P6_b_12_-_Google_Dataflow)\n",
      "271: (P6_b_13_-_Oracle_Data_Integrator)\n",
      "272: (P6_b_14_-_IBM_DataStage)\n",
      "273: (P6_b_15_-_SAP_BW_ETL)\n",
      "274: (P6_b_16_-_SQL_Server_Integration_Services_(SSIS))\n",
      "275: (P6_b_17_-_SAS_Data_Integration)\n",
      "276: (P6_b_18_-_Qlik_Sense)\n",
      "277: (P6_b_19_-_Knime)\n",
      "278: (P6_b_20_-_Databricks)\n",
      "279: (P6_b_21_-_Nao_utilizo_ferramentas_de_ETL)\n",
      "280: (P6_c_-_Sua_organizacao_possui_um_Data_Lake?)\n",
      "281: (P6_d_-_Qual_tecnologia_utilizada_como_plataforma_do_Data_Lake?)\n",
      "282: (P6_e_-_Sua_organizacao_possui_um_Data_Warehouse?)\n",
      "283: (P6_f_-_Qual_tecnologia_utilizada_como_plataforma_do_Data_Warehouse?)\n",
      "284: (P6_g_-_Quais_as_ferramentas_de_gestao_de_Qualidade_de_dados-_Metadados_e_catalogo_de_dados_voce_utiliza_no_trabalho?)\n",
      "285: (P6_h_-_Em_qual_das_opcoes_abaixo_voce_gasta_a_maior_parte_do_seu_tempo?)\n",
      "286: (P6_h_1_-_Desenvolvendo_pipelines_de_dados_utilizando_linguagens_de_programacao_como_Python-_Scala-_Java_etc.)\n",
      "287: (P6_h_2_-_Realizando_construcoes_de_ETLs_em_ferramentas_como_Pentaho-_Talend-_Dataflow_etc.)\n",
      "288: (P6_h_3_-_Criando_consultas_atraves_da_linguagem_SQL_para_exportar_informacoes_e_compartilhar_com_as_areas_de_negocio.)\n",
      "289: (P6_h_4_-_Atuando_na_integracao_de_diferentes_fontes_de_dados_atraves_de_plataformas_proprietarias_como_Stitch_Data-_Fivetran_etc.)\n",
      "290: (P6_h_5_-_Modelando_solucoes_de_arquitetura_de_dados-_criando_componentes_de_ingestao_de_dados-_transformacao_e_recuperacao_da_informacao.)\n",
      "291: (P6_h_6_-_Desenvolvendo/cuidando_da_manutencao_de_repositorios_de_dados_baseados_em_streaming_de_eventos_como_Data_Lakes_e_Data_Lakehouses.)\n",
      "292: (P6_h_7_-_Atuando_na_modelagem_dos_dados-_com_o_objetivo_de_criar_conjuntos_de_dados_como_Data_Warehouses-_Data_Marts_etc.)\n",
      "293: (P6_h_8_-_Cuidando_da_qualidade_dos_dados-_metadados_e_dicionario_de_dados.)\n",
      "294: (P6_h_9_-_Nenhuma_das_opcoes_listadas_refletem_meu_dia_a_dia.)\n",
      "295: (P7_1_-_Quais_das_opcoes_abaixo_fazem_parte_da_sua_rotina_no_trabalho_atual_com_analise_de_dados?)\n",
      "296: (P7_a_1_-_Processo_e_analiso_dados_utilizando_linguagens_de_programacao_como_Python-_R_etc.)\n",
      "297: (P7_a_2_-_Realizo_construcoes_de_dashboards_em_ferramentas_de_BI_como_PowerBI-_Tableau-_Looker-_Qlik_etc.)\n",
      "298: (P7_a_3_-_Crio_consultas_atraves_da_linguagem_SQL_para_exportar_informacoes_e_compartilhar_com_as_areas_de_negocio.)\n",
      "299: (P7_a_4_-_Utilizo_APIs_para_extrair_dados_e_complementar_minhas_analises.)\n",
      "300: (P7_a_5_-_Realizo_experimentos_e_estudos_utilizando_metodologias_estatisticas_como_teste_de_hipotese-_modelos_de_regressao_etc.)\n",
      "301: (P7_a_6_-_Desenvolvo/cuido_da_manutencao_de_ETLs_utilizando_tecnologias_como_Talend-_Pentaho-_Airflow-_Dataflow_etc.)\n",
      "302: (P7_a_7_-_Atuo_na_modelagem_dos_dados-_com_o_objetivo_de_criar_conjuntos_de_dados-_Data_Warehouses-_Data_Marts_etc.)\n",
      "303: (P7_a_8_-_Desenvolvo/cuido_da_manutencao_de_planilhas_para_atender_as_areas_de_negocio.)\n",
      "304: (P7_a_9_-_Utilizo_ferramentas_avancadas_de_estatistica_como_SASS-_PSS-_Stata_etc)\n",
      "305: (P7_a_10_-_Nenhuma_das_opcoes_listadas_refletem_meu_dia_a_dia.)\n",
      "306: (P7_b_-_Quais_as_ferramentas/tecnologias_de_ETL_que_voce_utiliza_no_trabalho_como_Data_Analyst?)\n",
      "307: (P7_b_1_-_Scripts_Python)\n",
      "308: (P7_b_2_-_SQL_&_Stored_Procedures)\n",
      "309: (P7_b_3_-_Apache_Airflow)\n",
      "310: (P7_b_4_-_Apache_NiFi)\n",
      "311: (P7_b_5_-_Luigi)\n",
      "312: (P7_b_6_-_AWS_Glue)\n",
      "313: (P7_b_7_-_Talend)\n",
      "314: (P7_b_8_-_Pentaho)\n",
      "315: (P7_b_9_-_Alteryx)\n",
      "316: (P7_b_10_-_Stitch)\n",
      "317: (P7_b_11_-_Fivetran)\n",
      "318: (P7_b_12_-_Google_Dataflow)\n",
      "319: (P7_b_13_-_Oracle_Data_Integrator)\n",
      "320: (P7_b_14_-_IBM_DataStage)\n",
      "321: (P7_b_15_-_SAP_BW_ETL)\n",
      "322: (P7_b_16_-_SQL_Server_Integration_Services_(SSIS))\n",
      "323: (P7_b_17_-_SAS_Data_Integration)\n",
      "324: (P7_b_18_-_Qlik_Sense)\n",
      "325: (P7_b_19_-_Knime)\n",
      "326: (P7_b_20_-_Databricks)\n",
      "327: (P7_b_21_-_Nao_utilizo_ferramentas_de_ETL)\n",
      "328: (P7_c_-_Sua_empresa_utiliza_alguma_das_ferramentas_listadas_para_dar_mais_autonomia_em_analise_de_dados_para_as_areas_de_negocio?)\n",
      "329: (P7_c_1_-_Ferramentas_de_AutoML_como_H2O.ai-_Data_Robot-_BigML_etc.)\n",
      "330: (P7_c_2_-_\"Point_and_Click\"_Analytics_como_Alteryx-_Knime-_Rapidminer_etc.)\n",
      "331: (P7_c_3_-_Product_metricts_&_Insights_como_Mixpanel-_Amplitude-_Adobe_Analytics.)\n",
      "332: (P7_c_4_-_Ferramentas_de_analise_dentro_de_ferramentas_de_CRM_como_Salesforce_Einstein_Anaytics_ou_Zendesk_dashboards.)\n",
      "333: (P7_c_5_-_Minha_empresa_nao_utiliza_essas_ferramentas.)\n",
      "334: (P7_c_6_-_Nao_sei_informar.)\n",
      "335: (P7_d_-_Em_qual_das_opcoes_abaixo_voce_gasta_a_maior_parte_do_seu_tempo_de_trabalho?)\n",
      "336: (P7_d_1_-_Processando_e_analisando_dados_utilizando_linguagens_de_programacao_como_Python-_R_etc.)\n",
      "337: (P7_d_2_-_Realizando_construcoes_de_dashboards_em_ferramentas_de_BI_como_PowerBI-_Tableau-_Looker-_Qlik_etc.)\n",
      "338: (P7_d_3_-_Criando_consultas_atraves_da_linguagem_SQL_para_exportar_informacoes_e_compartilhar_com_as_areas_de_negocio.)\n",
      "339: (P7_d_4_-_Utilizando_APIs_para_extrair_dados_e_complementar_minhas_analises.)\n",
      "340: (P7_d_5_-_Realizando_experimentos_e_estudos_utilizando_metodologias_estatisticas_como_teste_de_hipotese-_modelos_de_regressao_etc.)\n",
      "341: (P7_d_6_-_Desenvolvendo/cuidando_da_manutencao_de_ETLs_utilizando_tecnologias_como_Talend-_Pentaho-_Airflow-_Dataflow_etc.)\n",
      "342: (P7_d_7_-_Atuando_na_modelagem_dos_dados-_com_o_objetivo_de_criar_conjuntos_de_dados-_Data_Warehouses-_Data_Marts_etc.)\n",
      "343: (P7_d_8_-_Desenvolvendo/cuidando_da_manutencao_de_planilhas_do_Excel_ou_Google_Sheets_para_atender_as_areas_de_negocio.)\n",
      "344: (P7_d_9_-_Utilizando_ferramentas_avancadas_de_estatistica_como_SAS-_SPSS-_Stata_etc-_para_realizar_analises.)\n",
      "345: (P7_d_10_-_Nenhuma_das_opcoes_listadas_refletem_meu_dia_a_dia.)\n",
      "346: (P8_a_-_Quais_das_opcoes_abaixo_fazem_parte_da_sua_rotina_no_trabalho_atual_com_ciencia_de_dados?)\n",
      "347: (P8_a_1_-_Estudos_Ad-hoc_com_o_objetivo_de_confirmar_hipoteses-_realizar_modelos_preditivos-_forecasts-_analise_de_cluster_para_resolver_problemas_pontuais_e_responder_perguntas_das_areas_de_negocio.)\n",
      "348: (P8_a_2_-_Sou_responsavel_pela_coleta_e_limpeza_dos_dados_que_uso_para_analise_e_modelagem.)\n",
      "349: (P8_a_3_-_Sou_responsavel_por_entrar_em_contato_com_os_times_de_negocio_para_definicao_do_problema-_identificar_a_solucao_e_apresentacao_de_resultados.)\n",
      "350: (P8_a_4_-_Desenvolvo_modelos_de_Machine_Learning_com_o_objetivo_de_colocar_em_producao_em_sistemas_(produtos_de_dados).)\n",
      "351: (P8_a_5_-_Sou_responsavel_por_colocar_modelos_em_producao-_criar_os_pipelines_de_dados-_APIs_de_consumo_e_monitoramento.)\n",
      "352: (P8_a_6_-_Cuido_da_manutencao_de_modelos_de_Machine_Learning_ja_em_producao-_atuando_no_monitoramento-_ajustes_e_refatoracao_quando_necessario.)\n",
      "353: (P8_a_7_-_Realizo_construcoes_de_dashboards_em_ferramentas_de_BI_como_PowerBI-_Tableau-_Looker-_Qlik-_etc)\n",
      "354: (P8_a_8_-_Utilizo_ferramentas_avancadas_de_estatistica_como_SAS-_SPSS-_Stata_etc-_para_realizar_analises_estatisticas_e_ajustar_modelos.)\n",
      "355: (P8_a_9_-_Crio_e_dou_manutencao_em_ETLs-_DAGs_e_automacoes_de_pipelines_de_dados.)\n",
      "356: (P8_a_10_-_Crio_e_gerencio_solucoes_de_Feature_Store_e_cultura_de_MLOps.)\n",
      "357: (P8_a_11_-_Sou_responsavel_por_criar_e_manter_a_infra_que_meus_modelos_e_solucoes_rodam_(clusters-_servidores-_API-_containers-_etc.))\n",
      "358: (P8_a_12_-_Treino_e_aplico_LLMs_para_solucionar_problemas_de_negocio.)\n",
      "359: (P8_b_-_Quais_as_tecnicas_e_metodos_listados_abaixo_voce_costuma_utilizar_no_trabalho?)\n",
      "360: (P8_b_1_-_Utilizo_modelos_de_regressao_(linear-_logistica-_GLM))\n",
      "361: (P8_b_2_-_Utilizo_redes_neurais_ou_modelos_baseados_em_arvore_para_criar_modelos_de_classificacao)\n",
      "362: (P8_b_3_-_Desenvolvo_sistemas_de_recomendacao_(RecSys))\n",
      "363: (P8_b_4_-_Utilizo_metodos_estatisticos_Bayesianos_para_analisar_dados)\n",
      "364: (P8_b_5_-_Utilizo_tecnicas_de_NLP_(Natural_Language_Processing)_para_analisar_dados_nao-estruturados)\n",
      "365: (P8_b_6_-_Utilizo_metodos_estatisticos_classicos_(Testes_de_hipotese-_analise_multivariada-_sobrevivencia-_dados_longitudinais-_inferencia_estatistica)_para_analisar_dados)\n",
      "366: (P8_b_7_-_Utilizo_cadeias_de_Markov_ou_HMMs_para_realizar_analises_de_dados)\n",
      "367: (P8_b_8_-_Desenvolvo_tecnicas_de_Clusterizacao_(K-means-_Spectral-_DBScan_etc))\n",
      "368: (P8_b_9_-_Realizo_previsoes_atraves_de_modelos_de_Series_Temporais_(Time_Series))\n",
      "369: (P8_b_10_-_Utilizo_modelos_de_Reinforcement_Learning_(aprendizado_por_reforco))\n",
      "370: (P8_b_11_-_Utilizo_modelos_de_Machine_Learning_para_deteccao_de_fraude)\n",
      "371: (P8_b_12_-_Utilizo_metodos_de_Visao_Computacional)\n",
      "372: (P8_b_13_-_Utilizo_modelos_de_Deteccao_de_Churn)\n",
      "373: (P8_b_14_-_Utilizo_LLMs_para_solucionar_problemas_de_negocio)\n",
      "374: (P8_3_-_Quais_dessas_tecnologias_fazem_parte_do_seu_dia_a_dia_como_cientista_de_dados?)\n",
      "375: (P8_c_1_-_Ferramentas_de_BI_(PowerBI-_Looker-_Tableau-_Qlik_etc))\n",
      "376: (P8_c_2_-_Planilhas_(Excel-_Google_Sheets_etc))\n",
      "377: (P8_c_3_-_Ambientes_de_desenvolvimento_local_(R-studio-_JupyterLab-_Anaconda))\n",
      "378: (P8_c_4_-_Ambientes_de_desenvolvimento_na_nuvem_(Google_Colab-_AWS_Sagemaker-_Kaggle_Notebooks_etc))\n",
      "379: (P8_c_5_-_Ferramentas_de_AutoML_(Datarobot-_H2O-_Auto-Keras_etc))\n",
      "380: (P8_c_6_-_Ferramentas_de_ETL_(Apache_Airflow-_NiFi-_Stitch-_Fivetran-_Pentaho_etc))\n",
      "381: (P8_c_7_-_Plataformas_de_Machine_Learning_(TensorFlow-_Azure_Machine_Learning-_Kubeflow_etc))\n",
      "382: (P8_c_8_-_Feature_Store_(Feast-_Hopsworks-_AWS_Feature_Store-_Databricks_Feature_Store_etc))\n",
      "383: (P8_c_9_-_Sistemas_de_controle_de_versao_(Github-_DVC-_Neptune-_Gitlab_etc))\n",
      "384: (P8_c_10_-_Plataformas_de_Data_Apps_(Streamlit-_Shiny-_Plotly_Dash_etc))\n",
      "385: (P8_c_11_-_Ferramentas_de_estatistica_avancada_como_SPSS-_SAS-_etc.)\n",
      "386: (P8_d_-_Em_qual_das_opcoes_abaixo_voce_gasta_a_maior_parte_do_seu_tempo_no_trabalho?)\n",
      "387: (P8_d_1_-_Estudos_Ad-hoc_com_o_objetivo_de_confirmar_hipoteses-_realizar_modelos_preditivos-_forecasts-_analise_de_cluster_para_resolver_problemas_pontuais_e_responder_perguntas_das_areas_de_negocio.)\n",
      "388: (P8_d_2_-_Coletando_e_limpando_os_dados_que_uso_para_analise_e_modelagem.)\n",
      "389: (P8_d_3_-_Entrando_em_contato_com_os_times_de_negocio_para_definicao_do_problema-_identificar_a_solucao_e_apresentacao_de_resultados.)\n",
      "390: (P8_d_4_-_Desenvolvendo_modelos_de_Machine_Learning_com_o_objetivo_de_colocar_em_producao_em_sistemas_(produtos_de_dados).)\n",
      "391: (P8_d_5_-_Colocando_modelos_em_producao-_criando_os_pipelines_de_dados-_APIs_de_consumo_e_monitoramento.)\n",
      "392: (P8_d_6_-_Cuidando_da_manutencao_de_modelos_de_Machine_Learning_ja_em_producao-_atuando_no_monitoramento-_ajustes_e_refatoracao_quando_necessario.)\n",
      "393: (P8_d_7_-_Realizando_construcoes_de_dashboards_em_ferramentas_de_BI_como_PowerBI-_Tableau-_Looker-_Qlik-_etc.)\n",
      "394: (P8_d_8_-_Utilizando_ferramentas_avancadas_de_estatistica_como_SAS-_SPSS-_Stata_etc-_para_realizar_analises.)\n",
      "395: (P8_d_9_-_Criando_e_dando_manutencao_em_ETLs-_DAGs_e_automacoes_de_pipelines_de_dados.)\n",
      "396: (P8_d_10_-_Criando_e_gerenciando_solucoes_de_Feature_Store_e_cultura_de_MLOps.)\n",
      "397: (P8_d_11_-_Criando_e_mantendo_a_infra_que_meus_modelos_e_solucoes_rodam_(clusters-_servidores-_API-_containers-_etc.))\n",
      "398: (P8_d_12_-_Treinando_e_aplicando_LLMs_para_solucionar_problemas_de_negocio.)\n"
     ]
    }
   ],
   "source": [
    "import pandas as pd\n",
    "from sqlalchemy import create_engine\n",
    "\n",
    "caminho_banco = \"../../sqlite/database/stateOfDataBR2023.db\"\n",
    "conn = create_engine(f'sqlite:///{caminho_banco}')\n",
    "\n",
    "query = \"\"\"\n",
    "SELECT * FROM dados;\n",
    "\"\"\"\n",
    "\n",
    "df = pd.read_sql(query, conn)\n",
    "\n",
    "for i, col in enumerate(df.columns):\n",
    "    print(f'{i}: {col}')"
   ]
  },
  {
   "cell_type": "markdown",
   "id": "515ec6d4-f9e2-4a7e-b25c-83380db804a5",
   "metadata": {},
   "source": [
    "## 1.2 Removendo `'NaN'` e transformando valores em `'Int'`. "
   ]
  },
  {
   "cell_type": "code",
   "execution_count": 30,
   "id": "b826a8c4-1802-44a7-819d-3601f7976f79",
   "metadata": {},
   "outputs": [
    {
     "name": "stdout",
     "output_type": "stream",
     "text": [
      "(P1_e_-_experiencia_profissional_prejudicada)                              2574\n",
      "(P1_e_1_-_Nao_acredito_que_minha_experiencia_profissional_seja_afetada)    2574\n",
      "(P1_e_2_-_Experiencia_prejudicada_devido_a_minha_Cor_Raca_Etnia)           2574\n",
      "(P1_e_3_-_Experiencia_prejudicada_devido_a_minha_identidade_de_genero)     2574\n",
      "dtype: int64\n"
     ]
    },
    {
     "ename": "ValueError",
     "evalue": "invalid literal for int() with base 10: '0.0'",
     "output_type": "error",
     "traceback": [
      "\u001b[1;31m---------------------------------------------------------------------------\u001b[0m",
      "\u001b[1;31mValueError\u001b[0m                                Traceback (most recent call last)",
      "Cell \u001b[1;32mIn[30], line 15\u001b[0m\n\u001b[0;32m      8\u001b[0m interseccao_genero_cor_raca_etnia\u001b[38;5;241m.\u001b[39mdropna(inplace\u001b[38;5;241m=\u001b[39m\u001b[38;5;28;01mTrue\u001b[39;00m)\n\u001b[0;32m     11\u001b[0m \u001b[38;5;66;03m# df_exploracao = df[['(P1_c_-_Cor/raca/etnia)']]\u001b[39;00m\n\u001b[0;32m     12\u001b[0m interseccao_genero_cor_raca_etnia \u001b[38;5;241m=\u001b[39m interseccao_genero_cor_raca_etnia[[\n\u001b[0;32m     13\u001b[0m                     \u001b[38;5;124m'\u001b[39m\u001b[38;5;124m(P1_e_1_-_Nao_acredito_que_minha_experiencia_profissional_seja_afetada)\u001b[39m\u001b[38;5;124m'\u001b[39m,\n\u001b[0;32m     14\u001b[0m                     \u001b[38;5;124m'\u001b[39m\u001b[38;5;124m(P1_e_2_-_Experiencia_prejudicada_devido_a_minha_Cor_Raca_Etnia)\u001b[39m\u001b[38;5;124m'\u001b[39m,\n\u001b[1;32m---> 15\u001b[0m                     \u001b[38;5;124m'\u001b[39m\u001b[38;5;124m(P1_e_3_-_Experiencia_prejudicada_devido_a_minha_identidade_de_genero)\u001b[39m\u001b[38;5;124m'\u001b[39m]]\u001b[38;5;241m.\u001b[39mastype(\u001b[38;5;28mint\u001b[39m)\n\u001b[0;32m     17\u001b[0m interseccao_genero_cor_raca_etnia \u001b[38;5;241m=\u001b[39m interseccao_genero_cor_raca_etnia\u001b[38;5;241m.\u001b[39mastype(\u001b[38;5;28mbool\u001b[39m)\n\u001b[0;32m     19\u001b[0m interseccao_genero_cor_raca_etnia\u001b[38;5;241m.\u001b[39mhead(\u001b[38;5;241m10\u001b[39m)\n",
      "File \u001b[1;32m~\\anaconda3\\Lib\\site-packages\\pandas\\core\\generic.py:6643\u001b[0m, in \u001b[0;36mNDFrame.astype\u001b[1;34m(self, dtype, copy, errors)\u001b[0m\n\u001b[0;32m   6637\u001b[0m     results \u001b[38;5;241m=\u001b[39m [\n\u001b[0;32m   6638\u001b[0m         ser\u001b[38;5;241m.\u001b[39mastype(dtype, copy\u001b[38;5;241m=\u001b[39mcopy, errors\u001b[38;5;241m=\u001b[39merrors) \u001b[38;5;28;01mfor\u001b[39;00m _, ser \u001b[38;5;129;01min\u001b[39;00m \u001b[38;5;28mself\u001b[39m\u001b[38;5;241m.\u001b[39mitems()\n\u001b[0;32m   6639\u001b[0m     ]\n\u001b[0;32m   6641\u001b[0m \u001b[38;5;28;01melse\u001b[39;00m:\n\u001b[0;32m   6642\u001b[0m     \u001b[38;5;66;03m# else, only a single dtype is given\u001b[39;00m\n\u001b[1;32m-> 6643\u001b[0m     new_data \u001b[38;5;241m=\u001b[39m \u001b[38;5;28mself\u001b[39m\u001b[38;5;241m.\u001b[39m_mgr\u001b[38;5;241m.\u001b[39mastype(dtype\u001b[38;5;241m=\u001b[39mdtype, copy\u001b[38;5;241m=\u001b[39mcopy, errors\u001b[38;5;241m=\u001b[39merrors)\n\u001b[0;32m   6644\u001b[0m     res \u001b[38;5;241m=\u001b[39m \u001b[38;5;28mself\u001b[39m\u001b[38;5;241m.\u001b[39m_constructor_from_mgr(new_data, axes\u001b[38;5;241m=\u001b[39mnew_data\u001b[38;5;241m.\u001b[39maxes)\n\u001b[0;32m   6645\u001b[0m     \u001b[38;5;28;01mreturn\u001b[39;00m res\u001b[38;5;241m.\u001b[39m__finalize__(\u001b[38;5;28mself\u001b[39m, method\u001b[38;5;241m=\u001b[39m\u001b[38;5;124m\"\u001b[39m\u001b[38;5;124mastype\u001b[39m\u001b[38;5;124m\"\u001b[39m)\n",
      "File \u001b[1;32m~\\anaconda3\\Lib\\site-packages\\pandas\\core\\internals\\managers.py:430\u001b[0m, in \u001b[0;36mBaseBlockManager.astype\u001b[1;34m(self, dtype, copy, errors)\u001b[0m\n\u001b[0;32m    427\u001b[0m \u001b[38;5;28;01melif\u001b[39;00m using_copy_on_write():\n\u001b[0;32m    428\u001b[0m     copy \u001b[38;5;241m=\u001b[39m \u001b[38;5;28;01mFalse\u001b[39;00m\n\u001b[1;32m--> 430\u001b[0m \u001b[38;5;28;01mreturn\u001b[39;00m \u001b[38;5;28mself\u001b[39m\u001b[38;5;241m.\u001b[39mapply(\n\u001b[0;32m    431\u001b[0m     \u001b[38;5;124m\"\u001b[39m\u001b[38;5;124mastype\u001b[39m\u001b[38;5;124m\"\u001b[39m,\n\u001b[0;32m    432\u001b[0m     dtype\u001b[38;5;241m=\u001b[39mdtype,\n\u001b[0;32m    433\u001b[0m     copy\u001b[38;5;241m=\u001b[39mcopy,\n\u001b[0;32m    434\u001b[0m     errors\u001b[38;5;241m=\u001b[39merrors,\n\u001b[0;32m    435\u001b[0m     using_cow\u001b[38;5;241m=\u001b[39musing_copy_on_write(),\n\u001b[0;32m    436\u001b[0m )\n",
      "File \u001b[1;32m~\\anaconda3\\Lib\\site-packages\\pandas\\core\\internals\\managers.py:363\u001b[0m, in \u001b[0;36mBaseBlockManager.apply\u001b[1;34m(self, f, align_keys, **kwargs)\u001b[0m\n\u001b[0;32m    361\u001b[0m         applied \u001b[38;5;241m=\u001b[39m b\u001b[38;5;241m.\u001b[39mapply(f, \u001b[38;5;241m*\u001b[39m\u001b[38;5;241m*\u001b[39mkwargs)\n\u001b[0;32m    362\u001b[0m     \u001b[38;5;28;01melse\u001b[39;00m:\n\u001b[1;32m--> 363\u001b[0m         applied \u001b[38;5;241m=\u001b[39m \u001b[38;5;28mgetattr\u001b[39m(b, f)(\u001b[38;5;241m*\u001b[39m\u001b[38;5;241m*\u001b[39mkwargs)\n\u001b[0;32m    364\u001b[0m     result_blocks \u001b[38;5;241m=\u001b[39m extend_blocks(applied, result_blocks)\n\u001b[0;32m    366\u001b[0m out \u001b[38;5;241m=\u001b[39m \u001b[38;5;28mtype\u001b[39m(\u001b[38;5;28mself\u001b[39m)\u001b[38;5;241m.\u001b[39mfrom_blocks(result_blocks, \u001b[38;5;28mself\u001b[39m\u001b[38;5;241m.\u001b[39maxes)\n",
      "File \u001b[1;32m~\\anaconda3\\Lib\\site-packages\\pandas\\core\\internals\\blocks.py:758\u001b[0m, in \u001b[0;36mBlock.astype\u001b[1;34m(self, dtype, copy, errors, using_cow, squeeze)\u001b[0m\n\u001b[0;32m    755\u001b[0m         \u001b[38;5;28;01mraise\u001b[39;00m \u001b[38;5;167;01mValueError\u001b[39;00m(\u001b[38;5;124m\"\u001b[39m\u001b[38;5;124mCan not squeeze with more than one column.\u001b[39m\u001b[38;5;124m\"\u001b[39m)\n\u001b[0;32m    756\u001b[0m     values \u001b[38;5;241m=\u001b[39m values[\u001b[38;5;241m0\u001b[39m, :]  \u001b[38;5;66;03m# type: ignore[call-overload]\u001b[39;00m\n\u001b[1;32m--> 758\u001b[0m new_values \u001b[38;5;241m=\u001b[39m astype_array_safe(values, dtype, copy\u001b[38;5;241m=\u001b[39mcopy, errors\u001b[38;5;241m=\u001b[39merrors)\n\u001b[0;32m    760\u001b[0m new_values \u001b[38;5;241m=\u001b[39m maybe_coerce_values(new_values)\n\u001b[0;32m    762\u001b[0m refs \u001b[38;5;241m=\u001b[39m \u001b[38;5;28;01mNone\u001b[39;00m\n",
      "File \u001b[1;32m~\\anaconda3\\Lib\\site-packages\\pandas\\core\\dtypes\\astype.py:237\u001b[0m, in \u001b[0;36mastype_array_safe\u001b[1;34m(values, dtype, copy, errors)\u001b[0m\n\u001b[0;32m    234\u001b[0m     dtype \u001b[38;5;241m=\u001b[39m dtype\u001b[38;5;241m.\u001b[39mnumpy_dtype\n\u001b[0;32m    236\u001b[0m \u001b[38;5;28;01mtry\u001b[39;00m:\n\u001b[1;32m--> 237\u001b[0m     new_values \u001b[38;5;241m=\u001b[39m astype_array(values, dtype, copy\u001b[38;5;241m=\u001b[39mcopy)\n\u001b[0;32m    238\u001b[0m \u001b[38;5;28;01mexcept\u001b[39;00m (\u001b[38;5;167;01mValueError\u001b[39;00m, \u001b[38;5;167;01mTypeError\u001b[39;00m):\n\u001b[0;32m    239\u001b[0m     \u001b[38;5;66;03m# e.g. _astype_nansafe can fail on object-dtype of strings\u001b[39;00m\n\u001b[0;32m    240\u001b[0m     \u001b[38;5;66;03m#  trying to convert to float\u001b[39;00m\n\u001b[0;32m    241\u001b[0m     \u001b[38;5;28;01mif\u001b[39;00m errors \u001b[38;5;241m==\u001b[39m \u001b[38;5;124m\"\u001b[39m\u001b[38;5;124mignore\u001b[39m\u001b[38;5;124m\"\u001b[39m:\n",
      "File \u001b[1;32m~\\anaconda3\\Lib\\site-packages\\pandas\\core\\dtypes\\astype.py:182\u001b[0m, in \u001b[0;36mastype_array\u001b[1;34m(values, dtype, copy)\u001b[0m\n\u001b[0;32m    179\u001b[0m     values \u001b[38;5;241m=\u001b[39m values\u001b[38;5;241m.\u001b[39mastype(dtype, copy\u001b[38;5;241m=\u001b[39mcopy)\n\u001b[0;32m    181\u001b[0m \u001b[38;5;28;01melse\u001b[39;00m:\n\u001b[1;32m--> 182\u001b[0m     values \u001b[38;5;241m=\u001b[39m _astype_nansafe(values, dtype, copy\u001b[38;5;241m=\u001b[39mcopy)\n\u001b[0;32m    184\u001b[0m \u001b[38;5;66;03m# in pandas we don't store numpy str dtypes, so convert to object\u001b[39;00m\n\u001b[0;32m    185\u001b[0m \u001b[38;5;28;01mif\u001b[39;00m \u001b[38;5;28misinstance\u001b[39m(dtype, np\u001b[38;5;241m.\u001b[39mdtype) \u001b[38;5;129;01mand\u001b[39;00m \u001b[38;5;28missubclass\u001b[39m(values\u001b[38;5;241m.\u001b[39mdtype\u001b[38;5;241m.\u001b[39mtype, \u001b[38;5;28mstr\u001b[39m):\n",
      "File \u001b[1;32m~\\anaconda3\\Lib\\site-packages\\pandas\\core\\dtypes\\astype.py:133\u001b[0m, in \u001b[0;36m_astype_nansafe\u001b[1;34m(arr, dtype, copy, skipna)\u001b[0m\n\u001b[0;32m    129\u001b[0m     \u001b[38;5;28;01mraise\u001b[39;00m \u001b[38;5;167;01mValueError\u001b[39;00m(msg)\n\u001b[0;32m    131\u001b[0m \u001b[38;5;28;01mif\u001b[39;00m copy \u001b[38;5;129;01mor\u001b[39;00m arr\u001b[38;5;241m.\u001b[39mdtype \u001b[38;5;241m==\u001b[39m \u001b[38;5;28mobject\u001b[39m \u001b[38;5;129;01mor\u001b[39;00m dtype \u001b[38;5;241m==\u001b[39m \u001b[38;5;28mobject\u001b[39m:\n\u001b[0;32m    132\u001b[0m     \u001b[38;5;66;03m# Explicit copy, or required since NumPy can't view from / to object.\u001b[39;00m\n\u001b[1;32m--> 133\u001b[0m     \u001b[38;5;28;01mreturn\u001b[39;00m arr\u001b[38;5;241m.\u001b[39mastype(dtype, copy\u001b[38;5;241m=\u001b[39m\u001b[38;5;28;01mTrue\u001b[39;00m)\n\u001b[0;32m    135\u001b[0m \u001b[38;5;28;01mreturn\u001b[39;00m arr\u001b[38;5;241m.\u001b[39mastype(dtype, copy\u001b[38;5;241m=\u001b[39mcopy)\n",
      "\u001b[1;31mValueError\u001b[0m: invalid literal for int() with base 10: '0.0'"
     ]
    }
   ],
   "source": [
    "interseccao_genero_cor_raca_etnia = df[['(P1_e_-_experiencia_profissional_prejudicada)',\n",
    "                    '(P1_e_1_-_Nao_acredito_que_minha_experiencia_profissional_seja_afetada)',\n",
    "                    '(P1_e_2_-_Experiencia_prejudicada_devido_a_minha_Cor_Raca_Etnia)',\n",
    "                    '(P1_e_3_-_Experiencia_prejudicada_devido_a_minha_identidade_de_genero)'\n",
    "                   ]].copy()\n",
    "\n",
    "print(interseccao_genero_cor_raca_etnia.isnull().sum())\n",
    "interseccao_genero_cor_raca_etnia.dropna(inplace=True)\n",
    "\n",
    "\n",
    "# df_exploracao = df[['(P1_c_-_Cor/raca/etnia)']]\n",
    "interseccao_genero_cor_raca_etnia = interseccao_genero_cor_raca_etnia[[\n",
    "                    '(P1_e_1_-_Nao_acredito_que_minha_experiencia_profissional_seja_afetada)',\n",
    "                    '(P1_e_2_-_Experiencia_prejudicada_devido_a_minha_Cor_Raca_Etnia)',\n",
    "                    '(P1_e_3_-_Experiencia_prejudicada_devido_a_minha_identidade_de_genero)']].astype(int)\n",
    "\n",
    "interseccao_genero_cor_raca_etnia = interseccao_genero_cor_raca_etnia.astype(bool)\n",
    "\n",
    "interseccao_genero_cor_raca_etnia.head(10)\n",
    "\n"
   ]
  },
  {
   "cell_type": "markdown",
   "id": "98773929-cf19-44be-ba95-eca2b7c9b9fe",
   "metadata": {},
   "source": [
    "## 1.3 Removendo `'NaN'` e gerando novo dataFrame com `join` de colunas."
   ]
  },
  {
   "cell_type": "code",
   "execution_count": null,
   "id": "45522f8b-10cf-4541-8038-676a0432e359",
   "metadata": {},
   "outputs": [],
   "source": [
    "df_genero_cor_raca_etnia = df[['(P1_b_-_Genero)', \n",
    "                               '(P1_c_-_Cor/raca/etnia)', \n",
    "                               '(P2_a_-_Qual_sua_situacao_atual_de_trabalho?)'\n",
    "                              ]].copy()\n",
    "# Unindo tabelas distintas após tratamento individual\n",
    "df_join_combinado = df_genero_cor_raca_etnia.join(interseccao_genero_cor_raca_etnia)\n",
    "\n",
    "# Verifica se há valore vazio <NaN>\n",
    "# print(df_join_combinado.isnull().sum())\n",
    "print(df_join_combinado.columns)\n",
    "\n",
    "df_join_combinado.dropna(inplace=True)\n",
    "\n",
    "\n",
    "df_join_combinado.head(10)"
   ]
  },
  {
   "cell_type": "markdown",
   "id": "7fe91725-98d0-4c21-99f8-84a28e8a1449",
   "metadata": {},
   "source": [
    "## 1.4 Este bloco aplica filtros que atendem aos critérios específicos, mantendo apenas as colunas de interesse. Depois agrupa por gênero e cor/raça/etnia, soma os totais e por fim cria uma nova coluna com os valores percentuais de cada gênero e cor/raça/etnia."
   ]
  },
  {
   "cell_type": "code",
   "execution_count": 28,
   "id": "40d69ac8-7343-490b-9f53-3ce7514dccf0",
   "metadata": {},
   "outputs": [
    {
     "data": {
      "text/html": [
       "<div>\n",
       "<style scoped>\n",
       "    .dataframe tbody tr th:only-of-type {\n",
       "        vertical-align: middle;\n",
       "    }\n",
       "\n",
       "    .dataframe tbody tr th {\n",
       "        vertical-align: top;\n",
       "    }\n",
       "\n",
       "    .dataframe thead th {\n",
       "        text-align: right;\n",
       "    }\n",
       "</style>\n",
       "<table border=\"1\" class=\"dataframe\">\n",
       "  <thead>\n",
       "    <tr style=\"text-align: right;\">\n",
       "      <th></th>\n",
       "      <th>(P1_b_-_Genero)</th>\n",
       "      <th>(P1_c_-_Cor/raca/etnia)</th>\n",
       "      <th>(P1_e_1_-_Nao_acredito_que_minha_experiencia_profissional_seja_afetada)</th>\n",
       "      <th>valores_totais</th>\n",
       "      <th>valores_percentuais</th>\n",
       "    </tr>\n",
       "  </thead>\n",
       "  <tbody>\n",
       "    <tr>\n",
       "      <th>0</th>\n",
       "      <td>Feminino</td>\n",
       "      <td>Amarela</td>\n",
       "      <td>False</td>\n",
       "      <td>26</td>\n",
       "      <td>70.270270</td>\n",
       "    </tr>\n",
       "    <tr>\n",
       "      <th>1</th>\n",
       "      <td>Feminino</td>\n",
       "      <td>Amarela</td>\n",
       "      <td>True</td>\n",
       "      <td>11</td>\n",
       "      <td>29.729730</td>\n",
       "    </tr>\n",
       "    <tr>\n",
       "      <th>2</th>\n",
       "      <td>Feminino</td>\n",
       "      <td>Branca</td>\n",
       "      <td>False</td>\n",
       "      <td>475</td>\n",
       "      <td>64.625850</td>\n",
       "    </tr>\n",
       "    <tr>\n",
       "      <th>3</th>\n",
       "      <td>Feminino</td>\n",
       "      <td>Branca</td>\n",
       "      <td>True</td>\n",
       "      <td>260</td>\n",
       "      <td>35.374150</td>\n",
       "    </tr>\n",
       "    <tr>\n",
       "      <th>4</th>\n",
       "      <td>Feminino</td>\n",
       "      <td>Indigena</td>\n",
       "      <td>False</td>\n",
       "      <td>3</td>\n",
       "      <td>100.000000</td>\n",
       "    </tr>\n",
       "    <tr>\n",
       "      <th>5</th>\n",
       "      <td>Feminino</td>\n",
       "      <td>Parda</td>\n",
       "      <td>False</td>\n",
       "      <td>160</td>\n",
       "      <td>65.040650</td>\n",
       "    </tr>\n",
       "    <tr>\n",
       "      <th>6</th>\n",
       "      <td>Feminino</td>\n",
       "      <td>Parda</td>\n",
       "      <td>True</td>\n",
       "      <td>86</td>\n",
       "      <td>34.959350</td>\n",
       "    </tr>\n",
       "    <tr>\n",
       "      <th>7</th>\n",
       "      <td>Feminino</td>\n",
       "      <td>Preta</td>\n",
       "      <td>False</td>\n",
       "      <td>67</td>\n",
       "      <td>77.906977</td>\n",
       "    </tr>\n",
       "    <tr>\n",
       "      <th>8</th>\n",
       "      <td>Feminino</td>\n",
       "      <td>Preta</td>\n",
       "      <td>True</td>\n",
       "      <td>19</td>\n",
       "      <td>22.093023</td>\n",
       "    </tr>\n",
       "    <tr>\n",
       "      <th>9</th>\n",
       "      <td>Masculino</td>\n",
       "      <td>Amarela</td>\n",
       "      <td>True</td>\n",
       "      <td>78</td>\n",
       "      <td>84.782609</td>\n",
       "    </tr>\n",
       "    <tr>\n",
       "      <th>10</th>\n",
       "      <td>Masculino</td>\n",
       "      <td>Amarela</td>\n",
       "      <td>False</td>\n",
       "      <td>14</td>\n",
       "      <td>15.217391</td>\n",
       "    </tr>\n",
       "    <tr>\n",
       "      <th>11</th>\n",
       "      <td>Masculino</td>\n",
       "      <td>Branca</td>\n",
       "      <td>True</td>\n",
       "      <td>21</td>\n",
       "      <td>52.500000</td>\n",
       "    </tr>\n",
       "    <tr>\n",
       "      <th>12</th>\n",
       "      <td>Masculino</td>\n",
       "      <td>Branca</td>\n",
       "      <td>False</td>\n",
       "      <td>19</td>\n",
       "      <td>47.500000</td>\n",
       "    </tr>\n",
       "    <tr>\n",
       "      <th>13</th>\n",
       "      <td>Masculino</td>\n",
       "      <td>Indigena</td>\n",
       "      <td>True</td>\n",
       "      <td>6</td>\n",
       "      <td>75.000000</td>\n",
       "    </tr>\n",
       "    <tr>\n",
       "      <th>14</th>\n",
       "      <td>Masculino</td>\n",
       "      <td>Indigena</td>\n",
       "      <td>False</td>\n",
       "      <td>2</td>\n",
       "      <td>25.000000</td>\n",
       "    </tr>\n",
       "    <tr>\n",
       "      <th>15</th>\n",
       "      <td>Masculino</td>\n",
       "      <td>Parda</td>\n",
       "      <td>True</td>\n",
       "      <td>689</td>\n",
       "      <td>77.941176</td>\n",
       "    </tr>\n",
       "    <tr>\n",
       "      <th>16</th>\n",
       "      <td>Masculino</td>\n",
       "      <td>Parda</td>\n",
       "      <td>False</td>\n",
       "      <td>195</td>\n",
       "      <td>22.058824</td>\n",
       "    </tr>\n",
       "    <tr>\n",
       "      <th>17</th>\n",
       "      <td>Masculino</td>\n",
       "      <td>Preta</td>\n",
       "      <td>True</td>\n",
       "      <td>127</td>\n",
       "      <td>51.004016</td>\n",
       "    </tr>\n",
       "    <tr>\n",
       "      <th>18</th>\n",
       "      <td>Masculino</td>\n",
       "      <td>Preta</td>\n",
       "      <td>False</td>\n",
       "      <td>122</td>\n",
       "      <td>48.995984</td>\n",
       "    </tr>\n",
       "    <tr>\n",
       "      <th>19</th>\n",
       "      <td>Outro</td>\n",
       "      <td>Branca</td>\n",
       "      <td>False</td>\n",
       "      <td>3</td>\n",
       "      <td>60.000000</td>\n",
       "    </tr>\n",
       "    <tr>\n",
       "      <th>20</th>\n",
       "      <td>Outro</td>\n",
       "      <td>Branca</td>\n",
       "      <td>True</td>\n",
       "      <td>2</td>\n",
       "      <td>40.000000</td>\n",
       "    </tr>\n",
       "    <tr>\n",
       "      <th>21</th>\n",
       "      <td>Outro</td>\n",
       "      <td>Parda</td>\n",
       "      <td>False</td>\n",
       "      <td>1</td>\n",
       "      <td>100.000000</td>\n",
       "    </tr>\n",
       "    <tr>\n",
       "      <th>22</th>\n",
       "      <td>Outro</td>\n",
       "      <td>Preta</td>\n",
       "      <td>False</td>\n",
       "      <td>1</td>\n",
       "      <td>100.000000</td>\n",
       "    </tr>\n",
       "  </tbody>\n",
       "</table>\n",
       "</div>"
      ],
      "text/plain": [
       "   (P1_b_-_Genero) (P1_c_-_Cor/raca/etnia)  \\\n",
       "0         Feminino                 Amarela   \n",
       "1         Feminino                 Amarela   \n",
       "2         Feminino                  Branca   \n",
       "3         Feminino                  Branca   \n",
       "4         Feminino                Indigena   \n",
       "5         Feminino                   Parda   \n",
       "6         Feminino                   Parda   \n",
       "7         Feminino                   Preta   \n",
       "8         Feminino                   Preta   \n",
       "9        Masculino                 Amarela   \n",
       "10       Masculino                 Amarela   \n",
       "11       Masculino                  Branca   \n",
       "12       Masculino                  Branca   \n",
       "13       Masculino                Indigena   \n",
       "14       Masculino                Indigena   \n",
       "15       Masculino                   Parda   \n",
       "16       Masculino                   Parda   \n",
       "17       Masculino                   Preta   \n",
       "18       Masculino                   Preta   \n",
       "19           Outro                  Branca   \n",
       "20           Outro                  Branca   \n",
       "21           Outro                   Parda   \n",
       "22           Outro                   Preta   \n",
       "\n",
       "    (P1_e_1_-_Nao_acredito_que_minha_experiencia_profissional_seja_afetada)  \\\n",
       "0                                               False                         \n",
       "1                                                True                         \n",
       "2                                               False                         \n",
       "3                                                True                         \n",
       "4                                               False                         \n",
       "5                                               False                         \n",
       "6                                                True                         \n",
       "7                                               False                         \n",
       "8                                                True                         \n",
       "9                                                True                         \n",
       "10                                              False                         \n",
       "11                                               True                         \n",
       "12                                              False                         \n",
       "13                                               True                         \n",
       "14                                              False                         \n",
       "15                                               True                         \n",
       "16                                              False                         \n",
       "17                                               True                         \n",
       "18                                              False                         \n",
       "19                                              False                         \n",
       "20                                               True                         \n",
       "21                                              False                         \n",
       "22                                              False                         \n",
       "\n",
       "    valores_totais  valores_percentuais  \n",
       "0               26            70.270270  \n",
       "1               11            29.729730  \n",
       "2              475            64.625850  \n",
       "3              260            35.374150  \n",
       "4                3           100.000000  \n",
       "5              160            65.040650  \n",
       "6               86            34.959350  \n",
       "7               67            77.906977  \n",
       "8               19            22.093023  \n",
       "9               78            84.782609  \n",
       "10              14            15.217391  \n",
       "11              21            52.500000  \n",
       "12              19            47.500000  \n",
       "13               6            75.000000  \n",
       "14               2            25.000000  \n",
       "15             689            77.941176  \n",
       "16             195            22.058824  \n",
       "17             127            51.004016  \n",
       "18             122            48.995984  \n",
       "19               3            60.000000  \n",
       "20               2            40.000000  \n",
       "21               1           100.000000  \n",
       "22               1           100.000000  "
      ]
     },
     "execution_count": 28,
     "metadata": {},
     "output_type": "execute_result"
    }
   ],
   "source": [
    "import sys\n",
    "import os\n",
    "\n",
    "sys.path.append(os.path.abspath('../../src'))\n",
    "\n",
    "from utils.funcoes import calcular_valor_coluna\n",
    "\n",
    "\n",
    "#   O código cria um novo DataFrame chamado 'consulta' que contém apenas as linhas que atendem aos critérios\n",
    "#  de filtragem especificados, mantendo apenas as colunas de interesse.\n",
    "# ------------------------------ C Ó D I G O  A T U A L ------------------------------\n",
    "# df_consulta_filtrada = df_join_combinado[\n",
    "#     (df_join_combinado['(P2_a_-_Qual_sua_situacao_atual_de_trabalho?)'].ne('Desempregado, buscando recolocacao')) &\n",
    "#     (df_join_combinado['(P2_a_-_Qual_sua_situacao_atual_de_trabalho?)'].ne('Desempregado e nao estou buscando recolocacao')) &\n",
    "#     (df_join_combinado['(P2_a_-_Qual_sua_situacao_atual_de_trabalho?)'].ne('Somente Estudante (graduacao)')) &\n",
    "#     (df_join_combinado['(P2_a_-_Qual_sua_situacao_atual_de_trabalho?)'].ne('Prefiro nao informar'))\n",
    "#     ][\n",
    "#         ['(P1_b_-_Genero)',\n",
    "#          '(P1_c_-_Cor/raca/etnia)',\n",
    "#          '(P1_e_1_-_Nao_acredito_que_minha_experiencia_profissional_seja_afetada)'\n",
    "#      ]]\n",
    "\n",
    "# ------------------------------ C Ó D I G O  T E S T E ------------------------------\n",
    "df_consulta_filtrada = df_join_combinado[\n",
    "    (df_join_combinado['(P1_b_-_Genero)'].isin(['Feminino', 'Masculino', 'Outro'])) & \n",
    "    (df_join_combinado['(P1_c_-_Cor/raca/etnia)'].ne('Outra')) &\n",
    "    (df_join_combinado['(P1_c_-_Cor/raca/etnia)'].ne('Prefiro nao informar')) &\n",
    "    (df_join_combinado['(P2_a_-_Qual_sua_situacao_atual_de_trabalho?)'].ne('Desempregado, buscando recolocacao')) &\n",
    "    (df_join_combinado['(P2_a_-_Qual_sua_situacao_atual_de_trabalho?)'].ne('Desempregado e nao estou buscando recolocacao')) &\n",
    "    (df_join_combinado['(P2_a_-_Qual_sua_situacao_atual_de_trabalho?)'].ne('Somente Estudante (graduacao)')) &\n",
    "    (df_join_combinado['(P2_a_-_Qual_sua_situacao_atual_de_trabalho?)'].ne('Prefiro nao informar'))\n",
    "    ][\n",
    "        ['(P1_b_-_Genero)',\n",
    "         '(P1_c_-_Cor/raca/etnia)',\n",
    "         '(P1_e_1_-_Nao_acredito_que_minha_experiencia_profissional_seja_afetada)'\n",
    "     ]]\n",
    "# display(df_consulta_filtrada)\n",
    "\n",
    "# # Agrupando por nível e gênero e somando os totais\n",
    "genero_cor_raca_etnia_por_experiencia_prejudicada = df_consulta_filtrada.groupby(\n",
    "    ['(P1_b_-_Genero)', '(P1_c_-_Cor/raca/etnia)']\n",
    ")['(P1_e_1_-_Nao_acredito_que_minha_experiencia_profissional_seja_afetada)'].value_counts().reset_index(name='valores_totais')\n",
    "genero_cor_raca_etnia_por_experiencia_prejudicada.head(220)\n",
    "\n",
    "\n",
    "# Calculando o total por nível\n",
    "total_experiencia_profissional_afetada = genero_cor_raca_etnia_por_experiencia_prejudicada.groupby(['(P1_b_-_Genero)', \n",
    "                                                                                                    '(P1_c_-_Cor/raca/etnia)']\n",
    "                                                                                                  )['valores_totais'].sum().reset_index()\n",
    "total_experiencia_profissional_afetada.rename(columns={'valores_totais': 'total_experiencia_profissional_afetada'}, inplace=True)\n",
    "# total_experiencia_profissional_afetada.head(100)\n",
    "\n",
    "\n",
    "# Juntando os totais por nível com o DataFrame agrupado\n",
    "merged = pd.merge(genero_cor_raca_etnia_por_experiencia_prejudicada, total_experiencia_profissional_afetada, on=['(P1_b_-_Genero)', '(P1_c_-_Cor/raca/etnia)'], how='outer')\n",
    "# merged.head(37)\n",
    "\n",
    "\n",
    "# Calculando a porcentagem\n",
    "merged['valores_percentuais'] = (merged['valores_totais'] / merged['total_experiencia_profissional_afetada']) * 100\n",
    "merged[['(P1_b_-_Genero)', '(P1_c_-_Cor/raca/etnia)',\n",
    "        '(P1_e_1_-_Nao_acredito_que_minha_experiencia_profissional_seja_afetada)',\n",
    "        'valores_totais', 'valores_percentuais']].head(37)\n",
    "\n"
   ]
  },
  {
   "cell_type": "markdown",
   "id": "4f597a7b-02c0-4b6e-b299-3ed0733ab0cb",
   "metadata": {},
   "source": [
    "# 2. Gerando gráficos a partir dos dados"
   ]
  },
  {
   "cell_type": "code",
   "execution_count": 29,
   "id": "13db9762-d041-4c6f-b9f4-53c43b693025",
   "metadata": {},
   "outputs": [
    {
     "data": {
      "application/vnd.plotly.v1+json": {
       "config": {
        "plotlyServerURL": "https://plot.ly"
       },
       "data": [
        {
         "alignmentgroup": "True",
         "hovertemplate": "(P1_e_1_-_Nao_acredito_que_minha_experiencia_profissional_seja_afetada)=False<br>Grupo_de_genero_por_Cor_raca_etnia=%{x}<br>valores_percentuais=%{text}<extra></extra>",
         "legendgroup": "False",
         "marker": {
          "color": "#636efa",
          "pattern": {
           "shape": ""
          }
         },
         "name": "False",
         "offsetgroup": "False",
         "orientation": "v",
         "showlegend": true,
         "text": [
          70.27027027027027,
          64.62585034013605,
          100,
          65.04065040650406,
          77.90697674418605,
          15.217391304347828,
          47.5,
          25,
          22.058823529411764,
          48.99598393574297,
          60,
          100,
          100
         ],
         "textposition": "outside",
         "texttemplate": "%{text:.2f}%",
         "type": "bar",
         "x": [
          "Feminino - Amarela",
          "Feminino - Branca",
          "Feminino - Indigena",
          "Feminino - Parda",
          "Feminino - Preta",
          "Masculino - Amarela",
          "Masculino - Branca",
          "Masculino - Indigena",
          "Masculino - Parda",
          "Masculino - Preta",
          "Outro - Branca",
          "Outro - Parda",
          "Outro - Preta"
         ],
         "xaxis": "x",
         "y": [
          70.27027027027027,
          64.62585034013605,
          100,
          65.04065040650406,
          77.90697674418605,
          15.217391304347828,
          47.5,
          25,
          22.058823529411764,
          48.99598393574297,
          60,
          100,
          100
         ],
         "yaxis": "y"
        },
        {
         "alignmentgroup": "True",
         "hovertemplate": "(P1_e_1_-_Nao_acredito_que_minha_experiencia_profissional_seja_afetada)=True<br>Grupo_de_genero_por_Cor_raca_etnia=%{x}<br>valores_percentuais=%{text}<extra></extra>",
         "legendgroup": "True",
         "marker": {
          "color": "#EF553B",
          "pattern": {
           "shape": ""
          }
         },
         "name": "True",
         "offsetgroup": "True",
         "orientation": "v",
         "showlegend": true,
         "text": [
          29.72972972972973,
          35.374149659863946,
          34.959349593495936,
          22.093023255813954,
          84.78260869565217,
          52.5,
          75,
          77.94117647058823,
          51.00401606425703,
          40
         ],
         "textposition": "outside",
         "texttemplate": "%{text:.2f}%",
         "type": "bar",
         "x": [
          "Feminino - Amarela",
          "Feminino - Branca",
          "Feminino - Parda",
          "Feminino - Preta",
          "Masculino - Amarela",
          "Masculino - Branca",
          "Masculino - Indigena",
          "Masculino - Parda",
          "Masculino - Preta",
          "Outro - Branca"
         ],
         "xaxis": "x",
         "y": [
          29.72972972972973,
          35.374149659863946,
          34.959349593495936,
          22.093023255813954,
          84.78260869565217,
          52.5,
          75,
          77.94117647058823,
          51.00401606425703,
          40
         ],
         "yaxis": "y"
        }
       ],
       "layout": {
        "autosize": true,
        "barmode": "relative",
        "legend": {
         "title": {
          "text": "(P1_e_1_-_Nao_acredito_que_minha_experiencia_profissional_seja_afetada)"
         },
         "tracegroupgap": 0
        },
        "template": {
         "data": {
          "bar": [
           {
            "error_x": {
             "color": "#2a3f5f"
            },
            "error_y": {
             "color": "#2a3f5f"
            },
            "marker": {
             "line": {
              "color": "#E5ECF6",
              "width": 0.5
             },
             "pattern": {
              "fillmode": "overlay",
              "size": 10,
              "solidity": 0.2
             }
            },
            "type": "bar"
           }
          ],
          "barpolar": [
           {
            "marker": {
             "line": {
              "color": "#E5ECF6",
              "width": 0.5
             },
             "pattern": {
              "fillmode": "overlay",
              "size": 10,
              "solidity": 0.2
             }
            },
            "type": "barpolar"
           }
          ],
          "carpet": [
           {
            "aaxis": {
             "endlinecolor": "#2a3f5f",
             "gridcolor": "white",
             "linecolor": "white",
             "minorgridcolor": "white",
             "startlinecolor": "#2a3f5f"
            },
            "baxis": {
             "endlinecolor": "#2a3f5f",
             "gridcolor": "white",
             "linecolor": "white",
             "minorgridcolor": "white",
             "startlinecolor": "#2a3f5f"
            },
            "type": "carpet"
           }
          ],
          "choropleth": [
           {
            "colorbar": {
             "outlinewidth": 0,
             "ticks": ""
            },
            "type": "choropleth"
           }
          ],
          "contour": [
           {
            "colorbar": {
             "outlinewidth": 0,
             "ticks": ""
            },
            "colorscale": [
             [
              0,
              "#0d0887"
             ],
             [
              0.1111111111111111,
              "#46039f"
             ],
             [
              0.2222222222222222,
              "#7201a8"
             ],
             [
              0.3333333333333333,
              "#9c179e"
             ],
             [
              0.4444444444444444,
              "#bd3786"
             ],
             [
              0.5555555555555556,
              "#d8576b"
             ],
             [
              0.6666666666666666,
              "#ed7953"
             ],
             [
              0.7777777777777778,
              "#fb9f3a"
             ],
             [
              0.8888888888888888,
              "#fdca26"
             ],
             [
              1,
              "#f0f921"
             ]
            ],
            "type": "contour"
           }
          ],
          "contourcarpet": [
           {
            "colorbar": {
             "outlinewidth": 0,
             "ticks": ""
            },
            "type": "contourcarpet"
           }
          ],
          "heatmap": [
           {
            "colorbar": {
             "outlinewidth": 0,
             "ticks": ""
            },
            "colorscale": [
             [
              0,
              "#0d0887"
             ],
             [
              0.1111111111111111,
              "#46039f"
             ],
             [
              0.2222222222222222,
              "#7201a8"
             ],
             [
              0.3333333333333333,
              "#9c179e"
             ],
             [
              0.4444444444444444,
              "#bd3786"
             ],
             [
              0.5555555555555556,
              "#d8576b"
             ],
             [
              0.6666666666666666,
              "#ed7953"
             ],
             [
              0.7777777777777778,
              "#fb9f3a"
             ],
             [
              0.8888888888888888,
              "#fdca26"
             ],
             [
              1,
              "#f0f921"
             ]
            ],
            "type": "heatmap"
           }
          ],
          "heatmapgl": [
           {
            "colorbar": {
             "outlinewidth": 0,
             "ticks": ""
            },
            "colorscale": [
             [
              0,
              "#0d0887"
             ],
             [
              0.1111111111111111,
              "#46039f"
             ],
             [
              0.2222222222222222,
              "#7201a8"
             ],
             [
              0.3333333333333333,
              "#9c179e"
             ],
             [
              0.4444444444444444,
              "#bd3786"
             ],
             [
              0.5555555555555556,
              "#d8576b"
             ],
             [
              0.6666666666666666,
              "#ed7953"
             ],
             [
              0.7777777777777778,
              "#fb9f3a"
             ],
             [
              0.8888888888888888,
              "#fdca26"
             ],
             [
              1,
              "#f0f921"
             ]
            ],
            "type": "heatmapgl"
           }
          ],
          "histogram": [
           {
            "marker": {
             "pattern": {
              "fillmode": "overlay",
              "size": 10,
              "solidity": 0.2
             }
            },
            "type": "histogram"
           }
          ],
          "histogram2d": [
           {
            "colorbar": {
             "outlinewidth": 0,
             "ticks": ""
            },
            "colorscale": [
             [
              0,
              "#0d0887"
             ],
             [
              0.1111111111111111,
              "#46039f"
             ],
             [
              0.2222222222222222,
              "#7201a8"
             ],
             [
              0.3333333333333333,
              "#9c179e"
             ],
             [
              0.4444444444444444,
              "#bd3786"
             ],
             [
              0.5555555555555556,
              "#d8576b"
             ],
             [
              0.6666666666666666,
              "#ed7953"
             ],
             [
              0.7777777777777778,
              "#fb9f3a"
             ],
             [
              0.8888888888888888,
              "#fdca26"
             ],
             [
              1,
              "#f0f921"
             ]
            ],
            "type": "histogram2d"
           }
          ],
          "histogram2dcontour": [
           {
            "colorbar": {
             "outlinewidth": 0,
             "ticks": ""
            },
            "colorscale": [
             [
              0,
              "#0d0887"
             ],
             [
              0.1111111111111111,
              "#46039f"
             ],
             [
              0.2222222222222222,
              "#7201a8"
             ],
             [
              0.3333333333333333,
              "#9c179e"
             ],
             [
              0.4444444444444444,
              "#bd3786"
             ],
             [
              0.5555555555555556,
              "#d8576b"
             ],
             [
              0.6666666666666666,
              "#ed7953"
             ],
             [
              0.7777777777777778,
              "#fb9f3a"
             ],
             [
              0.8888888888888888,
              "#fdca26"
             ],
             [
              1,
              "#f0f921"
             ]
            ],
            "type": "histogram2dcontour"
           }
          ],
          "mesh3d": [
           {
            "colorbar": {
             "outlinewidth": 0,
             "ticks": ""
            },
            "type": "mesh3d"
           }
          ],
          "parcoords": [
           {
            "line": {
             "colorbar": {
              "outlinewidth": 0,
              "ticks": ""
             }
            },
            "type": "parcoords"
           }
          ],
          "pie": [
           {
            "automargin": true,
            "type": "pie"
           }
          ],
          "scatter": [
           {
            "fillpattern": {
             "fillmode": "overlay",
             "size": 10,
             "solidity": 0.2
            },
            "type": "scatter"
           }
          ],
          "scatter3d": [
           {
            "line": {
             "colorbar": {
              "outlinewidth": 0,
              "ticks": ""
             }
            },
            "marker": {
             "colorbar": {
              "outlinewidth": 0,
              "ticks": ""
             }
            },
            "type": "scatter3d"
           }
          ],
          "scattercarpet": [
           {
            "marker": {
             "colorbar": {
              "outlinewidth": 0,
              "ticks": ""
             }
            },
            "type": "scattercarpet"
           }
          ],
          "scattergeo": [
           {
            "marker": {
             "colorbar": {
              "outlinewidth": 0,
              "ticks": ""
             }
            },
            "type": "scattergeo"
           }
          ],
          "scattergl": [
           {
            "marker": {
             "colorbar": {
              "outlinewidth": 0,
              "ticks": ""
             }
            },
            "type": "scattergl"
           }
          ],
          "scattermapbox": [
           {
            "marker": {
             "colorbar": {
              "outlinewidth": 0,
              "ticks": ""
             }
            },
            "type": "scattermapbox"
           }
          ],
          "scatterpolar": [
           {
            "marker": {
             "colorbar": {
              "outlinewidth": 0,
              "ticks": ""
             }
            },
            "type": "scatterpolar"
           }
          ],
          "scatterpolargl": [
           {
            "marker": {
             "colorbar": {
              "outlinewidth": 0,
              "ticks": ""
             }
            },
            "type": "scatterpolargl"
           }
          ],
          "scatterternary": [
           {
            "marker": {
             "colorbar": {
              "outlinewidth": 0,
              "ticks": ""
             }
            },
            "type": "scatterternary"
           }
          ],
          "surface": [
           {
            "colorbar": {
             "outlinewidth": 0,
             "ticks": ""
            },
            "colorscale": [
             [
              0,
              "#0d0887"
             ],
             [
              0.1111111111111111,
              "#46039f"
             ],
             [
              0.2222222222222222,
              "#7201a8"
             ],
             [
              0.3333333333333333,
              "#9c179e"
             ],
             [
              0.4444444444444444,
              "#bd3786"
             ],
             [
              0.5555555555555556,
              "#d8576b"
             ],
             [
              0.6666666666666666,
              "#ed7953"
             ],
             [
              0.7777777777777778,
              "#fb9f3a"
             ],
             [
              0.8888888888888888,
              "#fdca26"
             ],
             [
              1,
              "#f0f921"
             ]
            ],
            "type": "surface"
           }
          ],
          "table": [
           {
            "cells": {
             "fill": {
              "color": "#EBF0F8"
             },
             "line": {
              "color": "white"
             }
            },
            "header": {
             "fill": {
              "color": "#C8D4E3"
             },
             "line": {
              "color": "white"
             }
            },
            "type": "table"
           }
          ]
         },
         "layout": {
          "annotationdefaults": {
           "arrowcolor": "#2a3f5f",
           "arrowhead": 0,
           "arrowwidth": 1
          },
          "autotypenumbers": "strict",
          "coloraxis": {
           "colorbar": {
            "outlinewidth": 0,
            "ticks": ""
           }
          },
          "colorscale": {
           "diverging": [
            [
             0,
             "#8e0152"
            ],
            [
             0.1,
             "#c51b7d"
            ],
            [
             0.2,
             "#de77ae"
            ],
            [
             0.3,
             "#f1b6da"
            ],
            [
             0.4,
             "#fde0ef"
            ],
            [
             0.5,
             "#f7f7f7"
            ],
            [
             0.6,
             "#e6f5d0"
            ],
            [
             0.7,
             "#b8e186"
            ],
            [
             0.8,
             "#7fbc41"
            ],
            [
             0.9,
             "#4d9221"
            ],
            [
             1,
             "#276419"
            ]
           ],
           "sequential": [
            [
             0,
             "#0d0887"
            ],
            [
             0.1111111111111111,
             "#46039f"
            ],
            [
             0.2222222222222222,
             "#7201a8"
            ],
            [
             0.3333333333333333,
             "#9c179e"
            ],
            [
             0.4444444444444444,
             "#bd3786"
            ],
            [
             0.5555555555555556,
             "#d8576b"
            ],
            [
             0.6666666666666666,
             "#ed7953"
            ],
            [
             0.7777777777777778,
             "#fb9f3a"
            ],
            [
             0.8888888888888888,
             "#fdca26"
            ],
            [
             1,
             "#f0f921"
            ]
           ],
           "sequentialminus": [
            [
             0,
             "#0d0887"
            ],
            [
             0.1111111111111111,
             "#46039f"
            ],
            [
             0.2222222222222222,
             "#7201a8"
            ],
            [
             0.3333333333333333,
             "#9c179e"
            ],
            [
             0.4444444444444444,
             "#bd3786"
            ],
            [
             0.5555555555555556,
             "#d8576b"
            ],
            [
             0.6666666666666666,
             "#ed7953"
            ],
            [
             0.7777777777777778,
             "#fb9f3a"
            ],
            [
             0.8888888888888888,
             "#fdca26"
            ],
            [
             1,
             "#f0f921"
            ]
           ]
          },
          "colorway": [
           "#636efa",
           "#EF553B",
           "#00cc96",
           "#ab63fa",
           "#FFA15A",
           "#19d3f3",
           "#FF6692",
           "#B6E880",
           "#FF97FF",
           "#FECB52"
          ],
          "font": {
           "color": "#2a3f5f"
          },
          "geo": {
           "bgcolor": "white",
           "lakecolor": "white",
           "landcolor": "#E5ECF6",
           "showlakes": true,
           "showland": true,
           "subunitcolor": "white"
          },
          "hoverlabel": {
           "align": "left"
          },
          "hovermode": "closest",
          "mapbox": {
           "style": "light"
          },
          "paper_bgcolor": "white",
          "plot_bgcolor": "#E5ECF6",
          "polar": {
           "angularaxis": {
            "gridcolor": "white",
            "linecolor": "white",
            "ticks": ""
           },
           "bgcolor": "#E5ECF6",
           "radialaxis": {
            "gridcolor": "white",
            "linecolor": "white",
            "ticks": ""
           }
          },
          "scene": {
           "xaxis": {
            "backgroundcolor": "#E5ECF6",
            "gridcolor": "white",
            "gridwidth": 2,
            "linecolor": "white",
            "showbackground": true,
            "ticks": "",
            "zerolinecolor": "white"
           },
           "yaxis": {
            "backgroundcolor": "#E5ECF6",
            "gridcolor": "white",
            "gridwidth": 2,
            "linecolor": "white",
            "showbackground": true,
            "ticks": "",
            "zerolinecolor": "white"
           },
           "zaxis": {
            "backgroundcolor": "#E5ECF6",
            "gridcolor": "white",
            "gridwidth": 2,
            "linecolor": "white",
            "showbackground": true,
            "ticks": "",
            "zerolinecolor": "white"
           }
          },
          "shapedefaults": {
           "line": {
            "color": "#2a3f5f"
           }
          },
          "ternary": {
           "aaxis": {
            "gridcolor": "white",
            "linecolor": "white",
            "ticks": ""
           },
           "baxis": {
            "gridcolor": "white",
            "linecolor": "white",
            "ticks": ""
           },
           "bgcolor": "#E5ECF6",
           "caxis": {
            "gridcolor": "white",
            "linecolor": "white",
            "ticks": ""
           }
          },
          "title": {
           "x": 0.05
          },
          "xaxis": {
           "automargin": true,
           "gridcolor": "white",
           "linecolor": "white",
           "ticks": "",
           "title": {
            "standoff": 15
           },
           "zerolinecolor": "white",
           "zerolinewidth": 2
          },
          "yaxis": {
           "automargin": true,
           "gridcolor": "white",
           "linecolor": "white",
           "ticks": "",
           "title": {
            "standoff": 15
           },
           "zerolinecolor": "white",
           "zerolinewidth": 2
          }
         }
        },
        "title": {
         "text": "Experiência Profissional Afetada por Gênero e Cor/Raça/Etnia"
        },
        "xaxis": {
         "anchor": "y",
         "autorange": true,
         "domain": [
          0,
          1
         ],
         "range": [
          -0.5,
          12.5
         ],
         "title": {
          "text": "Grupo_de_genero_por_Cor_raca_etnia"
         },
         "type": "category"
        },
        "yaxis": {
         "anchor": "x",
         "autorange": true,
         "domain": [
          0,
          1
         ],
         "range": [
          0,
          105.26315789473685
         ],
         "title": {
          "text": "valores_percentuais"
         },
         "type": "linear"
        }
       }
      },
      "image/png": "[encoded data removed]",
      "text/html": [
       "<div>                            <div id=\"f4b5b7b5-6342-4336-bbb6-94e25ec50147\" class=\"plotly-graph-div\" style=\"height:525px; width:100%;\"></div>            <script type=\"text/javascript\">                require([\"plotly\"], function(Plotly) {                    window.PLOTLYENV=window.PLOTLYENV || {};                                    if (document.getElementById(\"f4b5b7b5-6342-4336-bbb6-94e25ec50147\")) {                    Plotly.newPlot(                        \"f4b5b7b5-6342-4336-bbb6-94e25ec50147\",                        [{\"alignmentgroup\":\"True\",\"hovertemplate\":\"(P1_e_1_-_Nao_acredito_que_minha_experiencia_profissional_seja_afetada)=False\\u003cbr\\u003eGrupo_de_genero_por_Cor_raca_etnia=%{x}\\u003cbr\\u003evalores_percentuais=%{text}\\u003cextra\\u003e\\u003c\\u002fextra\\u003e\",\"legendgroup\":\"False\",\"marker\":{\"color\":\"#636efa\",\"pattern\":{\"shape\":\"\"}},\"name\":\"False\",\"offsetgroup\":\"False\",\"orientation\":\"v\",\"showlegend\":true,\"text\":[70.27027027027027,64.62585034013605,100.0,65.04065040650406,77.90697674418605,15.217391304347828,47.5,25.0,22.058823529411764,48.99598393574297,60.0,100.0,100.0],\"textposition\":\"outside\",\"x\":[\"Feminino - Amarela\",\"Feminino - Branca\",\"Feminino - Indigena\",\"Feminino - Parda\",\"Feminino - Preta\",\"Masculino - Amarela\",\"Masculino - Branca\",\"Masculino - Indigena\",\"Masculino - Parda\",\"Masculino - Preta\",\"Outro - Branca\",\"Outro - Parda\",\"Outro - Preta\"],\"xaxis\":\"x\",\"y\":[70.27027027027027,64.62585034013605,100.0,65.04065040650406,77.90697674418605,15.217391304347828,47.5,25.0,22.058823529411764,48.99598393574297,60.0,100.0,100.0],\"yaxis\":\"y\",\"type\":\"bar\",\"texttemplate\":\"%{text:.2f}%\"},{\"alignmentgroup\":\"True\",\"hovertemplate\":\"(P1_e_1_-_Nao_acredito_que_minha_experiencia_profissional_seja_afetada)=True\\u003cbr\\u003eGrupo_de_genero_por_Cor_raca_etnia=%{x}\\u003cbr\\u003evalores_percentuais=%{text}\\u003cextra\\u003e\\u003c\\u002fextra\\u003e\",\"legendgroup\":\"True\",\"marker\":{\"color\":\"#EF553B\",\"pattern\":{\"shape\":\"\"}},\"name\":\"True\",\"offsetgroup\":\"True\",\"orientation\":\"v\",\"showlegend\":true,\"text\":[29.72972972972973,35.374149659863946,34.959349593495936,22.093023255813954,84.78260869565217,52.5,75.0,77.94117647058823,51.00401606425703,40.0],\"textposition\":\"outside\",\"x\":[\"Feminino - Amarela\",\"Feminino - Branca\",\"Feminino - Parda\",\"Feminino - Preta\",\"Masculino - Amarela\",\"Masculino - Branca\",\"Masculino - Indigena\",\"Masculino - Parda\",\"Masculino - Preta\",\"Outro - Branca\"],\"xaxis\":\"x\",\"y\":[29.72972972972973,35.374149659863946,34.959349593495936,22.093023255813954,84.78260869565217,52.5,75.0,77.94117647058823,51.00401606425703,40.0],\"yaxis\":\"y\",\"type\":\"bar\",\"texttemplate\":\"%{text:.2f}%\"}],                        {\"template\":{\"data\":{\"histogram2dcontour\":[{\"type\":\"histogram2dcontour\",\"colorbar\":{\"outlinewidth\":0,\"ticks\":\"\"},\"colorscale\":[[0.0,\"#0d0887\"],[0.1111111111111111,\"#46039f\"],[0.2222222222222222,\"#7201a8\"],[0.3333333333333333,\"#9c179e\"],[0.4444444444444444,\"#bd3786\"],[0.5555555555555556,\"#d8576b\"],[0.6666666666666666,\"#ed7953\"],[0.7777777777777778,\"#fb9f3a\"],[0.8888888888888888,\"#fdca26\"],[1.0,\"#f0f921\"]]}],\"choropleth\":[{\"type\":\"choropleth\",\"colorbar\":{\"outlinewidth\":0,\"ticks\":\"\"}}],\"histogram2d\":[{\"type\":\"histogram2d\",\"colorbar\":{\"outlinewidth\":0,\"ticks\":\"\"},\"colorscale\":[[0.0,\"#0d0887\"],[0.1111111111111111,\"#46039f\"],[0.2222222222222222,\"#7201a8\"],[0.3333333333333333,\"#9c179e\"],[0.4444444444444444,\"#bd3786\"],[0.5555555555555556,\"#d8576b\"],[0.6666666666666666,\"#ed7953\"],[0.7777777777777778,\"#fb9f3a\"],[0.8888888888888888,\"#fdca26\"],[1.0,\"#f0f921\"]]}],\"heatmap\":[{\"type\":\"heatmap\",\"colorbar\":{\"outlinewidth\":0,\"ticks\":\"\"},\"colorscale\":[[0.0,\"#0d0887\"],[0.1111111111111111,\"#46039f\"],[0.2222222222222222,\"#7201a8\"],[0.3333333333333333,\"#9c179e\"],[0.4444444444444444,\"#bd3786\"],[0.5555555555555556,\"#d8576b\"],[0.6666666666666666,\"#ed7953\"],[0.7777777777777778,\"#fb9f3a\"],[0.8888888888888888,\"#fdca26\"],[1.0,\"#f0f921\"]]}],\"heatmapgl\":[{\"type\":\"heatmapgl\",\"colorbar\":{\"outlinewidth\":0,\"ticks\":\"\"},\"colorscale\":[[0.0,\"#0d0887\"],[0.1111111111111111,\"#46039f\"],[0.2222222222222222,\"#7201a8\"],[0.3333333333333333,\"#9c179e\"],[0.4444444444444444,\"#bd3786\"],[0.5555555555555556,\"#d8576b\"],[0.6666666666666666,\"#ed7953\"],[0.7777777777777778,\"#fb9f3a\"],[0.8888888888888888,\"#fdca26\"],[1.0,\"#f0f921\"]]}],\"contourcarpet\":[{\"type\":\"contourcarpet\",\"colorbar\":{\"outlinewidth\":0,\"ticks\":\"\"}}],\"contour\":[{\"type\":\"contour\",\"colorbar\":{\"outlinewidth\":0,\"ticks\":\"\"},\"colorscale\":[[0.0,\"#0d0887\"],[0.1111111111111111,\"#46039f\"],[0.2222222222222222,\"#7201a8\"],[0.3333333333333333,\"#9c179e\"],[0.4444444444444444,\"#bd3786\"],[0.5555555555555556,\"#d8576b\"],[0.6666666666666666,\"#ed7953\"],[0.7777777777777778,\"#fb9f3a\"],[0.8888888888888888,\"#fdca26\"],[1.0,\"#f0f921\"]]}],\"surface\":[{\"type\":\"surface\",\"colorbar\":{\"outlinewidth\":0,\"ticks\":\"\"},\"colorscale\":[[0.0,\"#0d0887\"],[0.1111111111111111,\"#46039f\"],[0.2222222222222222,\"#7201a8\"],[0.3333333333333333,\"#9c179e\"],[0.4444444444444444,\"#bd3786\"],[0.5555555555555556,\"#d8576b\"],[0.6666666666666666,\"#ed7953\"],[0.7777777777777778,\"#fb9f3a\"],[0.8888888888888888,\"#fdca26\"],[1.0,\"#f0f921\"]]}],\"mesh3d\":[{\"type\":\"mesh3d\",\"colorbar\":{\"outlinewidth\":0,\"ticks\":\"\"}}],\"scatter\":[{\"fillpattern\":{\"fillmode\":\"overlay\",\"size\":10,\"solidity\":0.2},\"type\":\"scatter\"}],\"parcoords\":[{\"type\":\"parcoords\",\"line\":{\"colorbar\":{\"outlinewidth\":0,\"ticks\":\"\"}}}],\"scatterpolargl\":[{\"type\":\"scatterpolargl\",\"marker\":{\"colorbar\":{\"outlinewidth\":0,\"ticks\":\"\"}}}],\"bar\":[{\"error_x\":{\"color\":\"#2a3f5f\"},\"error_y\":{\"color\":\"#2a3f5f\"},\"marker\":{\"line\":{\"color\":\"#E5ECF6\",\"width\":0.5},\"pattern\":{\"fillmode\":\"overlay\",\"size\":10,\"solidity\":0.2}},\"type\":\"bar\"}],\"scattergeo\":[{\"type\":\"scattergeo\",\"marker\":{\"colorbar\":{\"outlinewidth\":0,\"ticks\":\"\"}}}],\"scatterpolar\":[{\"type\":\"scatterpolar\",\"marker\":{\"colorbar\":{\"outlinewidth\":0,\"ticks\":\"\"}}}],\"histogram\":[{\"marker\":{\"pattern\":{\"fillmode\":\"overlay\",\"size\":10,\"solidity\":0.2}},\"type\":\"histogram\"}],\"scattergl\":[{\"type\":\"scattergl\",\"marker\":{\"colorbar\":{\"outlinewidth\":0,\"ticks\":\"\"}}}],\"scatter3d\":[{\"type\":\"scatter3d\",\"line\":{\"colorbar\":{\"outlinewidth\":0,\"ticks\":\"\"}},\"marker\":{\"colorbar\":{\"outlinewidth\":0,\"ticks\":\"\"}}}],\"scattermapbox\":[{\"type\":\"scattermapbox\",\"marker\":{\"colorbar\":{\"outlinewidth\":0,\"ticks\":\"\"}}}],\"scatterternary\":[{\"type\":\"scatterternary\",\"marker\":{\"colorbar\":{\"outlinewidth\":0,\"ticks\":\"\"}}}],\"scattercarpet\":[{\"type\":\"scattercarpet\",\"marker\":{\"colorbar\":{\"outlinewidth\":0,\"ticks\":\"\"}}}],\"carpet\":[{\"aaxis\":{\"endlinecolor\":\"#2a3f5f\",\"gridcolor\":\"white\",\"linecolor\":\"white\",\"minorgridcolor\":\"white\",\"startlinecolor\":\"#2a3f5f\"},\"baxis\":{\"endlinecolor\":\"#2a3f5f\",\"gridcolor\":\"white\",\"linecolor\":\"white\",\"minorgridcolor\":\"white\",\"startlinecolor\":\"#2a3f5f\"},\"type\":\"carpet\"}],\"table\":[{\"cells\":{\"fill\":{\"color\":\"#EBF0F8\"},\"line\":{\"color\":\"white\"}},\"header\":{\"fill\":{\"color\":\"#C8D4E3\"},\"line\":{\"color\":\"white\"}},\"type\":\"table\"}],\"barpolar\":[{\"marker\":{\"line\":{\"color\":\"#E5ECF6\",\"width\":0.5},\"pattern\":{\"fillmode\":\"overlay\",\"size\":10,\"solidity\":0.2}},\"type\":\"barpolar\"}],\"pie\":[{\"automargin\":true,\"type\":\"pie\"}]},\"layout\":{\"autotypenumbers\":\"strict\",\"colorway\":[\"#636efa\",\"#EF553B\",\"#00cc96\",\"#ab63fa\",\"#FFA15A\",\"#19d3f3\",\"#FF6692\",\"#B6E880\",\"#FF97FF\",\"#FECB52\"],\"font\":{\"color\":\"#2a3f5f\"},\"hovermode\":\"closest\",\"hoverlabel\":{\"align\":\"left\"},\"paper_bgcolor\":\"white\",\"plot_bgcolor\":\"#E5ECF6\",\"polar\":{\"bgcolor\":\"#E5ECF6\",\"angularaxis\":{\"gridcolor\":\"white\",\"linecolor\":\"white\",\"ticks\":\"\"},\"radialaxis\":{\"gridcolor\":\"white\",\"linecolor\":\"white\",\"ticks\":\"\"}},\"ternary\":{\"bgcolor\":\"#E5ECF6\",\"aaxis\":{\"gridcolor\":\"white\",\"linecolor\":\"white\",\"ticks\":\"\"},\"baxis\":{\"gridcolor\":\"white\",\"linecolor\":\"white\",\"ticks\":\"\"},\"caxis\":{\"gridcolor\":\"white\",\"linecolor\":\"white\",\"ticks\":\"\"}},\"coloraxis\":{\"colorbar\":{\"outlinewidth\":0,\"ticks\":\"\"}},\"colorscale\":{\"sequential\":[[0.0,\"#0d0887\"],[0.1111111111111111,\"#46039f\"],[0.2222222222222222,\"#7201a8\"],[0.3333333333333333,\"#9c179e\"],[0.4444444444444444,\"#bd3786\"],[0.5555555555555556,\"#d8576b\"],[0.6666666666666666,\"#ed7953\"],[0.7777777777777778,\"#fb9f3a\"],[0.8888888888888888,\"#fdca26\"],[1.0,\"#f0f921\"]],\"sequentialminus\":[[0.0,\"#0d0887\"],[0.1111111111111111,\"#46039f\"],[0.2222222222222222,\"#7201a8\"],[0.3333333333333333,\"#9c179e\"],[0.4444444444444444,\"#bd3786\"],[0.5555555555555556,\"#d8576b\"],[0.6666666666666666,\"#ed7953\"],[0.7777777777777778,\"#fb9f3a\"],[0.8888888888888888,\"#fdca26\"],[1.0,\"#f0f921\"]],\"diverging\":[[0,\"#8e0152\"],[0.1,\"#c51b7d\"],[0.2,\"#de77ae\"],[0.3,\"#f1b6da\"],[0.4,\"#fde0ef\"],[0.5,\"#f7f7f7\"],[0.6,\"#e6f5d0\"],[0.7,\"#b8e186\"],[0.8,\"#7fbc41\"],[0.9,\"#4d9221\"],[1,\"#276419\"]]},\"xaxis\":{\"gridcolor\":\"white\",\"linecolor\":\"white\",\"ticks\":\"\",\"title\":{\"standoff\":15},\"zerolinecolor\":\"white\",\"automargin\":true,\"zerolinewidth\":2},\"yaxis\":{\"gridcolor\":\"white\",\"linecolor\":\"white\",\"ticks\":\"\",\"title\":{\"standoff\":15},\"zerolinecolor\":\"white\",\"automargin\":true,\"zerolinewidth\":2},\"scene\":{\"xaxis\":{\"backgroundcolor\":\"#E5ECF6\",\"gridcolor\":\"white\",\"linecolor\":\"white\",\"showbackground\":true,\"ticks\":\"\",\"zerolinecolor\":\"white\",\"gridwidth\":2},\"yaxis\":{\"backgroundcolor\":\"#E5ECF6\",\"gridcolor\":\"white\",\"linecolor\":\"white\",\"showbackground\":true,\"ticks\":\"\",\"zerolinecolor\":\"white\",\"gridwidth\":2},\"zaxis\":{\"backgroundcolor\":\"#E5ECF6\",\"gridcolor\":\"white\",\"linecolor\":\"white\",\"showbackground\":true,\"ticks\":\"\",\"zerolinecolor\":\"white\",\"gridwidth\":2}},\"shapedefaults\":{\"line\":{\"color\":\"#2a3f5f\"}},\"annotationdefaults\":{\"arrowcolor\":\"#2a3f5f\",\"arrowhead\":0,\"arrowwidth\":1},\"geo\":{\"bgcolor\":\"white\",\"landcolor\":\"#E5ECF6\",\"subunitcolor\":\"white\",\"showland\":true,\"showlakes\":true,\"lakecolor\":\"white\"},\"title\":{\"x\":0.05},\"mapbox\":{\"style\":\"light\"}}},\"xaxis\":{\"anchor\":\"y\",\"domain\":[0.0,1.0],\"title\":{\"text\":\"Grupo_de_genero_por_Cor_raca_etnia\"}},\"yaxis\":{\"anchor\":\"x\",\"domain\":[0.0,1.0],\"title\":{\"text\":\"valores_percentuais\"}},\"legend\":{\"title\":{\"text\":\"(P1_e_1_-_Nao_acredito_que_minha_experiencia_profissional_seja_afetada)\"},\"tracegroupgap\":0},\"title\":{\"text\":\"Experi\\u00eancia Profissional Afetada por G\\u00eanero e Cor\\u002fRa\\u00e7a\\u002fEtnia\"},\"barmode\":\"relative\"},                        {\"responsive\": true}                    ).then(function(){\n",
       "                            \n",
       "var gd = document.getElementById('f4b5b7b5-6342-4336-bbb6-94e25ec50147');\n",
       "var x = new MutationObserver(function (mutations, observer) {{\n",
       "        var display = window.getComputedStyle(gd).display;\n",
       "        if (!display || display === 'none') {{\n",
       "            console.log([gd, 'removed!']);\n",
       "            Plotly.purge(gd);\n",
       "            observer.disconnect();\n",
       "        }}\n",
       "}});\n",
       "\n",
       "// Listen for the removal of the full notebook cells\n",
       "var notebookContainer = gd.closest('#notebook-container');\n",
       "if (notebookContainer) {{\n",
       "    x.observe(notebookContainer, {childList: true});\n",
       "}}\n",
       "\n",
       "// Listen for the clearing of the current output cell\n",
       "var outputEl = gd.closest('.output');\n",
       "if (outputEl) {{\n",
       "    x.observe(outputEl, {childList: true});\n",
       "}}\n",
       "\n",
       "                        })                };                });            </script>        </div>"
      ]
     },
     "metadata": {},
     "output_type": "display_data"
    }
   ],
   "source": [
    "import pandas as pd\n",
    "import plotly.express as px\n",
    "\n",
    "# Criando a nova coluna combinada\n",
    "merged['Grupo_de_genero_por_Cor_raca_etnia'] = merged['(P1_b_-_Genero)'] + ' - ' + merged['(P1_c_-_Cor/raca/etnia)']\n",
    "\n",
    "\n",
    "# Agrupando os dados\n",
    "grouped = merged.groupby(['Grupo_de_genero_por_Cor_raca_etnia', '(P1_e_1_-_Nao_acredito_que_minha_experiencia_profissional_seja_afetada)'])['valores_totais'].sum().reset_index()\n",
    "\n",
    "# Calculando o total por grupo\n",
    "totais = grouped.groupby('Grupo_de_genero_por_Cor_raca_etnia')['valores_totais'].sum().reset_index()\n",
    "totais.rename(columns={'valores_totais': 'total'}, inplace=True)\n",
    "\n",
    "# Unindo os totais com o DataFrame agrupado\n",
    "grouped = grouped.merge(totais, on='Grupo_de_genero_por_Cor_raca_etnia')\n",
    "\n",
    "# Calculando a porcentagem\n",
    "grouped['valores_percentuais'] = (grouped['valores_totais'] / grouped['total']) * 100\n",
    "\n",
    "# Criando o gráfico\n",
    "grafico = px.bar(\n",
    "    grouped, \n",
    "    x='Grupo_de_genero_por_Cor_raca_etnia', \n",
    "    y='valores_percentuais', \n",
    "    color='(P1_e_1_-_Nao_acredito_que_minha_experiencia_profissional_seja_afetada)',  \n",
    "    title='Experiência Profissional Afetada por Gênero e Cor/Raça/Etnia', \n",
    "    barmode='relative', \n",
    "    text='valores_percentuais'\n",
    ")\n",
    "\n",
    "# Adicionando rótulos de texto\n",
    "grafico.update_traces(texttemplate='%{text:.2f}%', textposition='outside')\n",
    "\n",
    "# Mostrando o gráfico\n",
    "grafico.show()\n",
    "\n"
   ]
  },
  {
   "cell_type": "code",
   "execution_count": null,
   "id": "ceb05514-f5b3-418f-87ee-f38214e51afa",
   "metadata": {},
   "outputs": [],
   "source": []
  }
 ],
 "metadata": {
  "kernelspec": {
   "display_name": "Python 3 (ipykernel)",
   "language": "python",
   "name": "python3"
  },
  "language_info": {
   "codemirror_mode": {
    "name": "ipython",
    "version": 3
   },
   "file_extension": ".py",
   "mimetype": "text/x-python",
   "name": "python",
   "nbconvert_exporter": "python",
   "pygments_lexer": "ipython3",
   "version": "3.12.4"
  }
 },
 "nbformat": 4,
 "nbformat_minor": 5
}
